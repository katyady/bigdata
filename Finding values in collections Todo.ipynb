{
  "cells": [
    {
      "metadata": {
        "trusted": true
      },
      "cell_type": "code",
      "source": "import random\nrandom.seed(1000)\nimport matplotlib.pyplot as plt",
      "execution_count": 1,
      "outputs": []
    },
    {
      "metadata": {},
      "cell_type": "markdown",
      "source": "# Create Data"
    },
    {
      "metadata": {
        "trusted": true
      },
      "cell_type": "code",
      "source": "# number of elements in list\nn = 50\n\n# list of unsorted items\nitems = [int(random.random()*n) for _ in range(n)]\n\n# value to be searched in list\nvalue = int(random.random()*n)\n\n# sorted list \nsorted_items = sorted(items)",
      "execution_count": 3,
      "outputs": []
    },
    {
      "metadata": {},
      "cell_type": "markdown",
      "source": "# Find Value in Unsorted List with Linear Search\n\nAnimation: https://yongdanielliang.github.io/animation/web/LinearSearchNew.html"
    },
    {
      "metadata": {
        "trusted": true
      },
      "cell_type": "code",
      "source": "def get_item(items, index):\n    \"\"\"value of of an item in a list based on the index of the value\n        args:\n            - items: List of items\n            - index: index of the requested item\n        return:\n            - value of the requested item\n    \"\"\"\n    if index == -1:\n        print(\"Not in the list\")\n        return None\n    else:\n        return items[index] ",
      "execution_count": 5,
      "outputs": []
    },
    {
      "metadata": {
        "trusted": true
      },
      "cell_type": "code",
      "source": "def find_element(items, value):\n    \"\"\"Linear search for a value in a list of items\n        args:\n            - items: unsorted list of items\n            - value: searched value\n        return:\n            - index of value or -1 if not in list\n    \"\"\"\n    # TODO\n    for i in range(len(items)):\n        if items[i]==value:\n            return i\n    return -1",
      "execution_count": 9,
      "outputs": []
    },
    {
      "metadata": {
        "trusted": true
      },
      "cell_type": "code",
      "source": "index = find_element(items, value)\nprint(index)",
      "execution_count": 10,
      "outputs": [
        {
          "output_type": "stream",
          "text": "12\n",
          "name": "stdout"
        }
      ]
    },
    {
      "metadata": {
        "scrolled": true,
        "trusted": true
      },
      "cell_type": "code",
      "source": "print(value)\nget_item(items, index)",
      "execution_count": 11,
      "outputs": [
        {
          "output_type": "stream",
          "text": "31\n",
          "name": "stdout"
        },
        {
          "output_type": "execute_result",
          "execution_count": 11,
          "data": {
            "text/plain": "31"
          },
          "metadata": {}
        }
      ]
    },
    {
      "metadata": {},
      "cell_type": "markdown",
      "source": "### Question: What is the time complexity of searching for a value in an unsorted list?"
    },
    {
      "metadata": {},
      "cell_type": "markdown",
      "source": "Answer: O(n)"
    },
    {
      "metadata": {},
      "cell_type": "markdown",
      "source": "# Find Value in Sorted list with Binary Search"
    },
    {
      "metadata": {},
      "cell_type": "markdown",
      "source": "Animation: https://yongdanielliang.github.io/animation/web/BinarySearchNew.html"
    },
    {
      "metadata": {
        "trusted": true
      },
      "cell_type": "code",
      "source": "def find_sorted(items, value):\n    \"\"\"Bineary search for a value in a list of sorted items\n        args:\n            - items: sorted list of items\n            - value: searched value\n        return:\n            - index of value or -1 if not in list\n    \"\"\"\n    # TODO\n    first = 0\n    last = len(items)-1\n    index = -1\n    while (first <= last) and (index == -1):\n        mid = (first+last)//2\n        if items[mid] == value:\n            index = mid\n        else:\n            if value<items[mid]:\n                last = mid -1\n            else:\n                first = mid +1\n    return index",
      "execution_count": 12,
      "outputs": []
    },
    {
      "metadata": {
        "trusted": true
      },
      "cell_type": "code",
      "source": "value = n+1 # a value that is not in the list so that we get the worst case time\nfind_sorted(sorted_items, value)",
      "execution_count": 13,
      "outputs": [
        {
          "output_type": "execute_result",
          "execution_count": 13,
          "data": {
            "text/plain": "-1"
          },
          "metadata": {}
        }
      ]
    },
    {
      "metadata": {
        "trusted": true
      },
      "cell_type": "code",
      "source": "n = 100\nitems = [int(random.random()*n) for _ in range(n)]\nvalue = n+1 \nfind_sorted(sorted_items, value)",
      "execution_count": 14,
      "outputs": [
        {
          "output_type": "execute_result",
          "execution_count": 14,
          "data": {
            "text/plain": "-1"
          },
          "metadata": {}
        }
      ]
    },
    {
      "metadata": {
        "trusted": true
      },
      "cell_type": "code",
      "source": "n = 200\nitems = [int(random.random()*n) for _ in range(n)]\nvalue = n+1 \nfind_sorted(sorted_items, value)",
      "execution_count": 15,
      "outputs": [
        {
          "output_type": "execute_result",
          "execution_count": 15,
          "data": {
            "text/plain": "-1"
          },
          "metadata": {}
        }
      ]
    },
    {
      "metadata": {},
      "cell_type": "markdown",
      "source": "### Question: What is the time complexity of binary search?"
    },
    {
      "metadata": {
        "collapsed": true
      },
      "cell_type": "markdown",
      "source": "Answer: O(log n)"
    }
  ],
  "metadata": {
    "kernelspec": {
      "name": "python3",
      "display_name": "Python 3",
      "language": "python"
    },
    "language_info": {
      "mimetype": "text/x-python",
      "nbconvert_exporter": "python",
      "name": "python",
      "pygments_lexer": "ipython3",
      "version": "3.5.4",
      "file_extension": ".py",
      "codemirror_mode": {
        "version": 3,
        "name": "ipython"
      }
    },
    "varInspector": {
      "cols": {
        "lenName": 16,
        "lenType": 16,
        "lenVar": 40
      },
      "kernels_config": {
        "python": {
          "delete_cmd_postfix": "",
          "delete_cmd_prefix": "del ",
          "library": "var_list.py",
          "varRefreshCmd": "print(var_dic_list())"
        },
        "r": {
          "delete_cmd_postfix": ") ",
          "delete_cmd_prefix": "rm(",
          "library": "var_list.r",
          "varRefreshCmd": "cat(var_dic_list()) "
        }
      },
      "oldHeight": 123.2,
      "position": {
        "height": "40px",
        "left": "1012.5px",
        "right": "20px",
        "top": "120px",
        "width": "250px"
      },
      "types_to_exclude": [
        "module",
        "function",
        "builtin_function_or_method",
        "instance",
        "_Feature"
      ],
      "varInspector_section_display": "none",
      "window_display": false
    }
  },
  "nbformat": 4,
  "nbformat_minor": 2
}