{
 "cells": [
  {
   "cell_type": "markdown",
   "metadata": {},
   "source": [
    "# Web APIs\n",
    "\n",
    "## 1. Consuming Web APIs\n",
    "\n",
    "(Partially adapted from https://www.dataquest.io/blog/python-api-tutorial/)\n",
    "\n",
    "* https://randomuser.me/ is a random user generator \n",
    "*\tIt has an API. Go to https://api.randomuser.me/ with your browser\n",
    "*\tYou get a JSON (JavaScript Object Notation) back. A JSON is similar to a Python dictionary.  \n",
    "*  Refresh the browser\n",
    "*\tYou can add query parameters. They are added to the URL with a ? . You then add then the parameter name = the value. More the one parameter are connected with a & e.g.\n",
    "\thttp://api.open-notify.org/iss-pass.json?lat=37.78&lon=-122.41\n",
    "\n",
    "*\t Go the documentation https://randomuser.me/documentation and check how you can get multiple users and to specify constraints on the output\n",
    "*\tGo to your browser and add parameters to https://api.randomuser.me/ so that you get 5 results of only males from the US\n",
    "\n",
    "Enter the URL of your solution:"
   ]
  },
  {
   "cell_type": "code",
   "execution_count": 3,
   "metadata": {},
   "outputs": [],
   "source": [
    "# TODO: get 5 results of only males from the US\n",
    "# Enter the URL of your solution:\n",
    "url = https://api.randomuser.me/?results=5&gender=male&nat=us"
   ]
  },
  {
   "cell_type": "markdown",
   "metadata": {},
   "source": [
    "* You can also get the data from the command line. Open the command line and write\n",
    "\n",
    "```bash\n",
    "curl -s https://api.randomuser.me/\n",
    "```\n",
    "\n",
    "You can also run Bash commands directly in your Jupyter Notebook with !:"
   ]
  },
  {
   "cell_type": "code",
   "execution_count": null,
   "metadata": {
    "collapsed": true
   },
   "outputs": [],
   "source": [
    "!curl -s https://api.randomuser.me/"
   ]
  },
  {
   "cell_type": "markdown",
   "metadata": {},
   "source": [
    "* Import the two libraries \n",
    "    * `requests` and \n",
    "    * `json`. \n",
    "\n",
    "You can find the documentation for the requests package here:\n",
    " http://www.python-requests.org/en/latest/ \n",
    " "
   ]
  },
  {
   "cell_type": "code",
   "execution_count": 4,
   "metadata": {},
   "outputs": [],
   "source": [
    "# TODO\n",
    "import requests\n",
    "import json"
   ]
  },
  {
   "cell_type": "markdown",
   "metadata": {},
   "source": [
    "* With the requests package you can call a Web API with the URL and the method get"
   ]
  },
  {
   "cell_type": "code",
   "execution_count": 5,
   "metadata": {},
   "outputs": [],
   "source": [
    "response = requests.get(\"https://api.randomuser.me/\")"
   ]
  },
  {
   "cell_type": "markdown",
   "metadata": {},
   "source": [
    "* Print the status code of the request"
   ]
  },
  {
   "cell_type": "code",
   "execution_count": 6,
   "metadata": {},
   "outputs": [
    {
     "name": "stdout",
     "output_type": "stream",
     "text": [
      "200\n"
     ]
    }
   ],
   "source": [
    "print(response.status_code)"
   ]
  },
  {
   "cell_type": "markdown",
   "metadata": {},
   "source": [
    "**The meaning of the status codes are:**\n",
    "* 200: everything went okay, and the result has been returned (if any)\n",
    "* 301: the server is redirecting you to a different endpoint. This can happen when a company switches domain names, or an endpoint name is changed.\n",
    "* 401: the server thinks you're not authenticated. This happens when you don't send the right credentials to access an API.\n",
    "* 400: the server thinks you made a bad request. This can happen when you don't send along the right data, among other things.\n",
    "* 403: the resource you're trying to access is forbidden – you don't have the right permissions to see it.\n",
    "* 404: the resource you tried to access wasn't found on the server.\n"
   ]
  },
  {
   "cell_type": "markdown",
   "metadata": {},
   "source": [
    "You can specify the query parameters for a URL with a Python dictionary like this:\n",
    "```python\n",
    "parameters = {\"lat\": 37.78, \"lon\": -122.41}\n",
    "```\n",
    "\n",
    "And pass the parameter to the request like this\n",
    "```python\n",
    "response = requests.get(\"http://api.open-notify.org/iss-pass.json\", params=parameters)\n",
    "```\n",
    "This is the same as \n",
    "```python\n",
    "response = requests.get(\"http://api.open-notify.org/iss-pass.json?lat=37.78&lon=-122.41\")\n",
    "```\n",
    "\n",
    "Alternatively you could build also the URL with the parameters by yourself with string concatenation. \n",
    "\n",
    "* Get with the request method 10 results of only males from the US.\n",
    "\n"
   ]
  },
  {
   "cell_type": "code",
   "execution_count": 7,
   "metadata": {},
   "outputs": [],
   "source": [
    "# TODO: Get with the request method 10 results of only males from the US.\n",
    "response = requests.get(\"https://api.randomuser.me/?results=10&gender=male\")"
   ]
  },
  {
   "cell_type": "markdown",
   "metadata": {},
   "source": [
    "* You can show the result of the request with the method text"
   ]
  },
  {
   "cell_type": "code",
   "execution_count": 8,
   "metadata": {
    "scrolled": true
   },
   "outputs": [
    {
     "data": {
      "text/plain": [
       "'{\"results\":[{\"gender\":\"male\",\"name\":{\"title\":\"mr\",\"first\":\"umut\",\"last\":\"erginsoy\"},\"location\":{\"street\":\"5768 mevlana cd\",\"city\":\"İstanbul\",\"state\":\"aydın\",\"postcode\":33682,\"coordinates\":{\"latitude\":\"76.9455\",\"longitude\":\"147.2805\"},\"timezone\":{\"offset\":\"-5:00\",\"description\":\"Eastern Time (US & Canada), Bogota, Lima\"}},\"email\":\"umut.erginsoy@example.com\",\"login\":{\"uuid\":\"639e614e-236a-4921-bd13-3721363e0eea\",\"username\":\"ticklishbird292\",\"password\":\"houses\",\"salt\":\"6jpAOMjf\",\"md5\":\"6d03f0094046e26ece39fd16e7295d17\",\"sha1\":\"5d6e5f15da71fddd9826c61ab2b4a6ba1212b65e\",\"sha256\":\"0a1aba9ab280c8a71fac583ec7f4d8c2022cd70b3271d849210b466fc22bc1c1\"},\"dob\":{\"date\":\"1957-07-15T18:59:56Z\",\"age\":61},\"registered\":{\"date\":\"2009-09-08T06:40:32Z\",\"age\":9},\"phone\":\"(123)-280-9968\",\"cell\":\"(578)-167-2180\",\"id\":{\"name\":\"\",\"value\":null},\"picture\":{\"large\":\"https://randomuser.me/api/portraits/men/18.jpg\",\"medium\":\"https://randomuser.me/api/portraits/med/men/18.jpg\",\"thumbnail\":\"https://randomuser.me/api/portraits/thumb/men/18.jpg\"},\"nat\":\"TR\"},{\"gender\":\"male\",\"name\":{\"title\":\"mr\",\"first\":\"liam\",\"last\":\"bélanger\"},\"location\":{\"street\":\"6916 parliament st\",\"city\":\"summerside\",\"state\":\"yukon\",\"postcode\":\"Z3U 4S1\",\"coordinates\":{\"latitude\":\"71.6158\",\"longitude\":\"31.2702\"},\"timezone\":{\"offset\":\"+4:30\",\"description\":\"Kabul\"}},\"email\":\"liam.bélanger@example.com\",\"login\":{\"uuid\":\"cd2ac42d-1282-4aba-9f5d-7d8e0a996d7c\",\"username\":\"greenswan496\",\"password\":\"monster1\",\"salt\":\"YC2H5aQL\",\"md5\":\"4033876d59d1af1283a84c7b7f7f2f7e\",\"sha1\":\"0ccbdd371b7b4ffcc5f050131e829880492d643f\",\"sha256\":\"160979a1596e1576707e4e28aa6a4c2318d17b7aaff6d0127ed66a28c79a5982\"},\"dob\":{\"date\":\"1985-10-05T01:49:11Z\",\"age\":33},\"registered\":{\"date\":\"2008-12-14T08:01:13Z\",\"age\":10},\"phone\":\"069-393-3600\",\"cell\":\"998-535-6095\",\"id\":{\"name\":\"\",\"value\":null},\"picture\":{\"large\":\"https://randomuser.me/api/portraits/men/56.jpg\",\"medium\":\"https://randomuser.me/api/portraits/med/men/56.jpg\",\"thumbnail\":\"https://randomuser.me/api/portraits/thumb/men/56.jpg\"},\"nat\":\"CA\"},{\"gender\":\"male\",\"name\":{\"title\":\"mr\",\"first\":\"fatih\",\"last\":\"kuday\"},\"location\":{\"street\":\"5492 mevlana cd\",\"city\":\"giresun\",\"state\":\"kırşehir\",\"postcode\":78908,\"coordinates\":{\"latitude\":\"-15.3518\",\"longitude\":\"23.6542\"},\"timezone\":{\"offset\":\"-9:00\",\"description\":\"Alaska\"}},\"email\":\"fatih.kuday@example.com\",\"login\":{\"uuid\":\"1af5f56a-00fe-4e85-9a1f-8f5c7b2f6818\",\"username\":\"redlion358\",\"password\":\"skirt\",\"salt\":\"6nbdUpzs\",\"md5\":\"62e400f5b6b448ad5a5e93e67ce496f9\",\"sha1\":\"c8fde0989417881f345bc0d93984d9cb1c467bde\",\"sha256\":\"3f6373a7de4408c1c3de2593bf53a4aee876fb0d34e60949ab4c383e471df15a\"},\"dob\":{\"date\":\"1961-06-18T19:58:22Z\",\"age\":57},\"registered\":{\"date\":\"2004-05-15T10:05:11Z\",\"age\":14},\"phone\":\"(317)-656-8340\",\"cell\":\"(097)-922-2428\",\"id\":{\"name\":\"\",\"value\":null},\"picture\":{\"large\":\"https://randomuser.me/api/portraits/men/12.jpg\",\"medium\":\"https://randomuser.me/api/portraits/med/men/12.jpg\",\"thumbnail\":\"https://randomuser.me/api/portraits/thumb/men/12.jpg\"},\"nat\":\"TR\"},{\"gender\":\"male\",\"name\":{\"title\":\"mr\",\"first\":\"jonas\",\"last\":\"kempe\"},\"location\":{\"street\":\"bahnhofstraße 184\",\"city\":\"helmstedt\",\"state\":\"saarland\",\"postcode\":46834,\"coordinates\":{\"latitude\":\"68.6614\",\"longitude\":\"-54.6220\"},\"timezone\":{\"offset\":\"-7:00\",\"description\":\"Mountain Time (US & Canada)\"}},\"email\":\"jonas.kempe@example.com\",\"login\":{\"uuid\":\"7ce300b3-64da-4845-a162-b98ae4701ebe\",\"username\":\"blackmouse552\",\"password\":\"dickens\",\"salt\":\"AgIob92y\",\"md5\":\"75935761c4b77e6f0b9dd329dc23f8d9\",\"sha1\":\"dc985668dd4f5a1b97a992293a813e2cec827b88\",\"sha256\":\"9fc8d4f9f4abeb9b8688b947aeae83235a925d545974c9c585525060bf165fe1\"},\"dob\":{\"date\":\"1977-10-21T12:42:50Z\",\"age\":41},\"registered\":{\"date\":\"2010-09-02T21:26:16Z\",\"age\":8},\"phone\":\"0919-6871124\",\"cell\":\"0179-0288315\",\"id\":{\"name\":\"\",\"value\":null},\"picture\":{\"large\":\"https://randomuser.me/api/portraits/men/98.jpg\",\"medium\":\"https://randomuser.me/api/portraits/med/men/98.jpg\",\"thumbnail\":\"https://randomuser.me/api/portraits/thumb/men/98.jpg\"},\"nat\":\"DE\"},{\"gender\":\"male\",\"name\":{\"title\":\"mr\",\"first\":\"ümit\",\"last\":\"orbay\"},\"location\":{\"street\":\"1090 vatan cd\",\"city\":\"tunceli\",\"state\":\"manisa\",\"postcode\":17977,\"coordinates\":{\"latitude\":\"-48.3119\",\"longitude\":\"-83.7753\"},\"timezone\":{\"offset\":\"+3:30\",\"description\":\"Tehran\"}},\"email\":\"ümit.orbay@example.com\",\"login\":{\"uuid\":\"473d4862-815b-4661-830f-d642a8a8ff2f\",\"username\":\"blackrabbit853\",\"password\":\"gonzales\",\"salt\":\"NSwdVs12\",\"md5\":\"7dbe989347ac2a181c32df90a02917e0\",\"sha1\":\"542c617c6b413ec7918a176d5609ecf9bb0255f1\",\"sha256\":\"7ebeb1b0b365b22faee512a7e0dcc402e820741fb84d46ea73584713255a045f\"},\"dob\":{\"date\":\"1966-07-02T12:54:16Z\",\"age\":52},\"registered\":{\"date\":\"2003-06-17T03:33:56Z\",\"age\":15},\"phone\":\"(554)-437-7406\",\"cell\":\"(787)-636-3225\",\"id\":{\"name\":\"\",\"value\":null},\"picture\":{\"large\":\"https://randomuser.me/api/portraits/men/17.jpg\",\"medium\":\"https://randomuser.me/api/portraits/med/men/17.jpg\",\"thumbnail\":\"https://randomuser.me/api/portraits/thumb/men/17.jpg\"},\"nat\":\"TR\"},{\"gender\":\"male\",\"name\":{\"title\":\"mr\",\"first\":\"karim\",\"last\":\"aanonsen\"},\"location\":{\"street\":\"roald amundsens gate 8209\",\"city\":\"snurråsen\",\"state\":\"oppland\",\"postcode\":\"5203\",\"coordinates\":{\"latitude\":\"23.1441\",\"longitude\":\"110.5317\"},\"timezone\":{\"offset\":\"+11:00\",\"description\":\"Magadan, Solomon Islands, New Caledonia\"}},\"email\":\"karim.aanonsen@example.com\",\"login\":{\"uuid\":\"c2247e04-de51-48ee-ba91-fc81ab50c4dd\",\"username\":\"beautifulzebra418\",\"password\":\"babybaby\",\"salt\":\"kxPw5v1j\",\"md5\":\"c7ddcacafebaa5a3634edce222eb240e\",\"sha1\":\"34710a53d226d5ac41be5dcda397798170332352\",\"sha256\":\"8f1fa5b35ef2039d5fe4432afa32c5d9f291d8f337d14b72c29a6dfbdbb8babc\"},\"dob\":{\"date\":\"1997-01-20T07:13:24Z\",\"age\":22},\"registered\":{\"date\":\"2015-11-16T23:28:43Z\",\"age\":3},\"phone\":\"50976332\",\"cell\":\"47455397\",\"id\":{\"name\":\"FN\",\"value\":\"20019721427\"},\"picture\":{\"large\":\"https://randomuser.me/api/portraits/men/16.jpg\",\"medium\":\"https://randomuser.me/api/portraits/med/men/16.jpg\",\"thumbnail\":\"https://randomuser.me/api/portraits/thumb/men/16.jpg\"},\"nat\":\"NO\"},{\"gender\":\"male\",\"name\":{\"title\":\"mr\",\"first\":\"adam\",\"last\":\"skotnes\"},\"location\":{\"street\":\"børsteveien 9922\",\"city\":\"mosterhamn\",\"state\":\"hordaland\",\"postcode\":\"2687\",\"coordinates\":{\"latitude\":\"-17.9906\",\"longitude\":\"-132.3702\"},\"timezone\":{\"offset\":\"+3:30\",\"description\":\"Tehran\"}},\"email\":\"adam.skotnes@example.com\",\"login\":{\"uuid\":\"cd612996-75cc-4709-bdb9-4a5448c7ff8b\",\"username\":\"yellowmeercat379\",\"password\":\"joebob\",\"salt\":\"Oy8Brmoy\",\"md5\":\"bd1bb79561fb385d7778ccaa1eb9c241\",\"sha1\":\"aef54ad0e2928704ab045c239eb98905fe563830\",\"sha256\":\"7806a646a55e99bcbdfbb30e7a6a7913572ac13898fc794f56c960f2b4ce47b1\"},\"dob\":{\"date\":\"1949-01-11T21:03:35Z\",\"age\":70},\"registered\":{\"date\":\"2016-09-27T23:34:24Z\",\"age\":2},\"phone\":\"60768192\",\"cell\":\"95448302\",\"id\":{\"name\":\"FN\",\"value\":\"11014900839\"},\"picture\":{\"large\":\"https://randomuser.me/api/portraits/men/36.jpg\",\"medium\":\"https://randomuser.me/api/portraits/med/men/36.jpg\",\"thumbnail\":\"https://randomuser.me/api/portraits/thumb/men/36.jpg\"},\"nat\":\"NO\"},{\"gender\":\"male\",\"name\":{\"title\":\"mr\",\"first\":\"alexandre\",\"last\":\"laurent\"},\"location\":{\"street\":\"7495 place de l\\'europe\",\"city\":\"vitry-sur-seine\",\"state\":\"loire-atlantique\",\"postcode\":85881,\"coordinates\":{\"latitude\":\"44.5736\",\"longitude\":\"23.5976\"},\"timezone\":{\"offset\":\"+2:00\",\"description\":\"Kaliningrad, South Africa\"}},\"email\":\"alexandre.laurent@example.com\",\"login\":{\"uuid\":\"525a5e5d-211f-45fd-a50e-bb6531c7886e\",\"username\":\"crazypeacock976\",\"password\":\"badgirl\",\"salt\":\"ikeVXX98\",\"md5\":\"41c34dec648e62d50d6dd6c18935d026\",\"sha1\":\"c936bb64abb957af0e417495e8ee66b1e2705623\",\"sha256\":\"82668c9be75ce4084d292a3bf33cb9f570a25b6cbf67ba67913127f70561f490\"},\"dob\":{\"date\":\"1986-09-30T16:58:50Z\",\"age\":32},\"registered\":{\"date\":\"2007-09-13T00:00:15Z\",\"age\":11},\"phone\":\"03-40-71-08-46\",\"cell\":\"06-12-05-06-99\",\"id\":{\"name\":\"INSEE\",\"value\":\"1NNaN32455524 47\"},\"picture\":{\"large\":\"https://randomuser.me/api/portraits/men/0.jpg\",\"medium\":\"https://randomuser.me/api/portraits/med/men/0.jpg\",\"thumbnail\":\"https://randomuser.me/api/portraits/thumb/men/0.jpg\"},\"nat\":\"FR\"},{\"gender\":\"male\",\"name\":{\"title\":\"mr\",\"first\":\"adam\",\"last\":\"mitchell\"},\"location\":{\"street\":\"8488 dame street\",\"city\":\"longford\",\"state\":\"tipperary\",\"postcode\":13669,\"coordinates\":{\"latitude\":\"49.9504\",\"longitude\":\"25.7769\"},\"timezone\":{\"offset\":\"+1:00\",\"description\":\"Brussels, Copenhagen, Madrid, Paris\"}},\"email\":\"adam.mitchell@example.com\",\"login\":{\"uuid\":\"d8c0c961-851a-46f7-8336-7f941e581cae\",\"username\":\"yellowkoala475\",\"password\":\"barbados\",\"salt\":\"r21zmCcT\",\"md5\":\"81a12c9c821ed40d409ea768c9a37d1a\",\"sha1\":\"ee8adb8f0d68c6e30c295b68ac3230b9a98064dd\",\"sha256\":\"2967aa071c5059a88e1d731843d05dd93d37d0949106984bbe230aed3f99373a\"},\"dob\":{\"date\":\"1975-10-01T09:07:18Z\",\"age\":43},\"registered\":{\"date\":\"2010-09-04T21:46:08Z\",\"age\":8},\"phone\":\"031-153-3231\",\"cell\":\"081-613-8669\",\"id\":{\"name\":\"PPS\",\"value\":\"7784201T\"},\"picture\":{\"large\":\"https://randomuser.me/api/portraits/men/66.jpg\",\"medium\":\"https://randomuser.me/api/portraits/med/men/66.jpg\",\"thumbnail\":\"https://randomuser.me/api/portraits/thumb/men/66.jpg\"},\"nat\":\"IE\"},{\"gender\":\"male\",\"name\":{\"title\":\"mr\",\"first\":\"elio\",\"last\":\"rodriguez\"},\"location\":{\"street\":\"4185 rue du moulin\",\"city\":\"lyon\",\"state\":\"meuse\",\"postcode\":83708,\"coordinates\":{\"latitude\":\"-56.9803\",\"longitude\":\"176.8647\"},\"timezone\":{\"offset\":\"+6:00\",\"description\":\"Almaty, Dhaka, Colombo\"}},\"email\":\"elio.rodriguez@example.com\",\"login\":{\"uuid\":\"3d977d50-3ff4-4807-8b3f-9d221cccff14\",\"username\":\"crazylion522\",\"password\":\"megane\",\"salt\":\"rJffEJNF\",\"md5\":\"e1cbdb0a084b73e18e60784773af9621\",\"sha1\":\"9f8978a2e5b8c94d18a7fcc7b9596f6740e22256\",\"sha256\":\"478b62cf0abaf332ffe633577299bd4c3e15ab33e1db198b10198b5302f009ba\"},\"dob\":{\"date\":\"1994-04-03T00:48:43Z\",\"age\":25},\"registered\":{\"date\":\"2006-03-28T16:01:57Z\",\"age\":13},\"phone\":\"03-51-11-41-88\",\"cell\":\"06-13-57-88-72\",\"id\":{\"name\":\"INSEE\",\"value\":\"1NNaN97840512 53\"},\"picture\":{\"large\":\"https://randomuser.me/api/portraits/men/36.jpg\",\"medium\":\"https://randomuser.me/api/portraits/med/men/36.jpg\",\"thumbnail\":\"https://randomuser.me/api/portraits/thumb/men/36.jpg\"},\"nat\":\"FR\"}],\"info\":{\"seed\":\"47dcaf7301a2d715\",\"results\":10,\"page\":1,\"version\":\"1.2\"}}'"
      ]
     },
     "execution_count": 8,
     "metadata": {},
     "output_type": "execute_result"
    }
   ],
   "source": [
    "response.text"
   ]
  },
  {
   "cell_type": "markdown",
   "metadata": {},
   "source": [
    "* You can convert the data from JSON to a Python dictionary with the package JSON"
   ]
  },
  {
   "cell_type": "code",
   "execution_count": 9,
   "metadata": {},
   "outputs": [],
   "source": [
    "data = json.loads(response.text)"
   ]
  },
  {
   "cell_type": "markdown",
   "metadata": {},
   "source": [
    "* Check the type of variable data"
   ]
  },
  {
   "cell_type": "code",
   "execution_count": 10,
   "metadata": {},
   "outputs": [
    {
     "data": {
      "text/plain": [
       "dict"
      ]
     },
     "execution_count": 10,
     "metadata": {},
     "output_type": "execute_result"
    }
   ],
   "source": [
    "# TODO\n",
    "type(data)"
   ]
  },
  {
   "cell_type": "code",
   "execution_count": 11,
   "metadata": {},
   "outputs": [
    {
     "name": "stdout",
     "output_type": "stream",
     "text": [
      "{'results': [{'gender': 'male', 'name': {'title': 'mr', 'first': 'umut', 'last': 'erginsoy'}, 'location': {'street': '5768 mevlana cd', 'city': 'İstanbul', 'state': 'aydın', 'postcode': 33682, 'coordinates': {'latitude': '76.9455', 'longitude': '147.2805'}, 'timezone': {'offset': '-5:00', 'description': 'Eastern Time (US & Canada), Bogota, Lima'}}, 'email': 'umut.erginsoy@example.com', 'login': {'uuid': '639e614e-236a-4921-bd13-3721363e0eea', 'username': 'ticklishbird292', 'password': 'houses', 'salt': '6jpAOMjf', 'md5': '6d03f0094046e26ece39fd16e7295d17', 'sha1': '5d6e5f15da71fddd9826c61ab2b4a6ba1212b65e', 'sha256': '0a1aba9ab280c8a71fac583ec7f4d8c2022cd70b3271d849210b466fc22bc1c1'}, 'dob': {'date': '1957-07-15T18:59:56Z', 'age': 61}, 'registered': {'date': '2009-09-08T06:40:32Z', 'age': 9}, 'phone': '(123)-280-9968', 'cell': '(578)-167-2180', 'id': {'name': '', 'value': None}, 'picture': {'large': 'https://randomuser.me/api/portraits/men/18.jpg', 'medium': 'https://randomuser.me/api/portraits/med/men/18.jpg', 'thumbnail': 'https://randomuser.me/api/portraits/thumb/men/18.jpg'}, 'nat': 'TR'}, {'gender': 'male', 'name': {'title': 'mr', 'first': 'liam', 'last': 'bélanger'}, 'location': {'street': '6916 parliament st', 'city': 'summerside', 'state': 'yukon', 'postcode': 'Z3U 4S1', 'coordinates': {'latitude': '71.6158', 'longitude': '31.2702'}, 'timezone': {'offset': '+4:30', 'description': 'Kabul'}}, 'email': 'liam.bélanger@example.com', 'login': {'uuid': 'cd2ac42d-1282-4aba-9f5d-7d8e0a996d7c', 'username': 'greenswan496', 'password': 'monster1', 'salt': 'YC2H5aQL', 'md5': '4033876d59d1af1283a84c7b7f7f2f7e', 'sha1': '0ccbdd371b7b4ffcc5f050131e829880492d643f', 'sha256': '160979a1596e1576707e4e28aa6a4c2318d17b7aaff6d0127ed66a28c79a5982'}, 'dob': {'date': '1985-10-05T01:49:11Z', 'age': 33}, 'registered': {'date': '2008-12-14T08:01:13Z', 'age': 10}, 'phone': '069-393-3600', 'cell': '998-535-6095', 'id': {'name': '', 'value': None}, 'picture': {'large': 'https://randomuser.me/api/portraits/men/56.jpg', 'medium': 'https://randomuser.me/api/portraits/med/men/56.jpg', 'thumbnail': 'https://randomuser.me/api/portraits/thumb/men/56.jpg'}, 'nat': 'CA'}, {'gender': 'male', 'name': {'title': 'mr', 'first': 'fatih', 'last': 'kuday'}, 'location': {'street': '5492 mevlana cd', 'city': 'giresun', 'state': 'kırşehir', 'postcode': 78908, 'coordinates': {'latitude': '-15.3518', 'longitude': '23.6542'}, 'timezone': {'offset': '-9:00', 'description': 'Alaska'}}, 'email': 'fatih.kuday@example.com', 'login': {'uuid': '1af5f56a-00fe-4e85-9a1f-8f5c7b2f6818', 'username': 'redlion358', 'password': 'skirt', 'salt': '6nbdUpzs', 'md5': '62e400f5b6b448ad5a5e93e67ce496f9', 'sha1': 'c8fde0989417881f345bc0d93984d9cb1c467bde', 'sha256': '3f6373a7de4408c1c3de2593bf53a4aee876fb0d34e60949ab4c383e471df15a'}, 'dob': {'date': '1961-06-18T19:58:22Z', 'age': 57}, 'registered': {'date': '2004-05-15T10:05:11Z', 'age': 14}, 'phone': '(317)-656-8340', 'cell': '(097)-922-2428', 'id': {'name': '', 'value': None}, 'picture': {'large': 'https://randomuser.me/api/portraits/men/12.jpg', 'medium': 'https://randomuser.me/api/portraits/med/men/12.jpg', 'thumbnail': 'https://randomuser.me/api/portraits/thumb/men/12.jpg'}, 'nat': 'TR'}, {'gender': 'male', 'name': {'title': 'mr', 'first': 'jonas', 'last': 'kempe'}, 'location': {'street': 'bahnhofstraße 184', 'city': 'helmstedt', 'state': 'saarland', 'postcode': 46834, 'coordinates': {'latitude': '68.6614', 'longitude': '-54.6220'}, 'timezone': {'offset': '-7:00', 'description': 'Mountain Time (US & Canada)'}}, 'email': 'jonas.kempe@example.com', 'login': {'uuid': '7ce300b3-64da-4845-a162-b98ae4701ebe', 'username': 'blackmouse552', 'password': 'dickens', 'salt': 'AgIob92y', 'md5': '75935761c4b77e6f0b9dd329dc23f8d9', 'sha1': 'dc985668dd4f5a1b97a992293a813e2cec827b88', 'sha256': '9fc8d4f9f4abeb9b8688b947aeae83235a925d545974c9c585525060bf165fe1'}, 'dob': {'date': '1977-10-21T12:42:50Z', 'age': 41}, 'registered': {'date': '2010-09-02T21:26:16Z', 'age': 8}, 'phone': '0919-6871124', 'cell': '0179-0288315', 'id': {'name': '', 'value': None}, 'picture': {'large': 'https://randomuser.me/api/portraits/men/98.jpg', 'medium': 'https://randomuser.me/api/portraits/med/men/98.jpg', 'thumbnail': 'https://randomuser.me/api/portraits/thumb/men/98.jpg'}, 'nat': 'DE'}, {'gender': 'male', 'name': {'title': 'mr', 'first': 'ümit', 'last': 'orbay'}, 'location': {'street': '1090 vatan cd', 'city': 'tunceli', 'state': 'manisa', 'postcode': 17977, 'coordinates': {'latitude': '-48.3119', 'longitude': '-83.7753'}, 'timezone': {'offset': '+3:30', 'description': 'Tehran'}}, 'email': 'ümit.orbay@example.com', 'login': {'uuid': '473d4862-815b-4661-830f-d642a8a8ff2f', 'username': 'blackrabbit853', 'password': 'gonzales', 'salt': 'NSwdVs12', 'md5': '7dbe989347ac2a181c32df90a02917e0', 'sha1': '542c617c6b413ec7918a176d5609ecf9bb0255f1', 'sha256': '7ebeb1b0b365b22faee512a7e0dcc402e820741fb84d46ea73584713255a045f'}, 'dob': {'date': '1966-07-02T12:54:16Z', 'age': 52}, 'registered': {'date': '2003-06-17T03:33:56Z', 'age': 15}, 'phone': '(554)-437-7406', 'cell': '(787)-636-3225', 'id': {'name': '', 'value': None}, 'picture': {'large': 'https://randomuser.me/api/portraits/men/17.jpg', 'medium': 'https://randomuser.me/api/portraits/med/men/17.jpg', 'thumbnail': 'https://randomuser.me/api/portraits/thumb/men/17.jpg'}, 'nat': 'TR'}, {'gender': 'male', 'name': {'title': 'mr', 'first': 'karim', 'last': 'aanonsen'}, 'location': {'street': 'roald amundsens gate 8209', 'city': 'snurråsen', 'state': 'oppland', 'postcode': '5203', 'coordinates': {'latitude': '23.1441', 'longitude': '110.5317'}, 'timezone': {'offset': '+11:00', 'description': 'Magadan, Solomon Islands, New Caledonia'}}, 'email': 'karim.aanonsen@example.com', 'login': {'uuid': 'c2247e04-de51-48ee-ba91-fc81ab50c4dd', 'username': 'beautifulzebra418', 'password': 'babybaby', 'salt': 'kxPw5v1j', 'md5': 'c7ddcacafebaa5a3634edce222eb240e', 'sha1': '34710a53d226d5ac41be5dcda397798170332352', 'sha256': '8f1fa5b35ef2039d5fe4432afa32c5d9f291d8f337d14b72c29a6dfbdbb8babc'}, 'dob': {'date': '1997-01-20T07:13:24Z', 'age': 22}, 'registered': {'date': '2015-11-16T23:28:43Z', 'age': 3}, 'phone': '50976332', 'cell': '47455397', 'id': {'name': 'FN', 'value': '20019721427'}, 'picture': {'large': 'https://randomuser.me/api/portraits/men/16.jpg', 'medium': 'https://randomuser.me/api/portraits/med/men/16.jpg', 'thumbnail': 'https://randomuser.me/api/portraits/thumb/men/16.jpg'}, 'nat': 'NO'}, {'gender': 'male', 'name': {'title': 'mr', 'first': 'adam', 'last': 'skotnes'}, 'location': {'street': 'børsteveien 9922', 'city': 'mosterhamn', 'state': 'hordaland', 'postcode': '2687', 'coordinates': {'latitude': '-17.9906', 'longitude': '-132.3702'}, 'timezone': {'offset': '+3:30', 'description': 'Tehran'}}, 'email': 'adam.skotnes@example.com', 'login': {'uuid': 'cd612996-75cc-4709-bdb9-4a5448c7ff8b', 'username': 'yellowmeercat379', 'password': 'joebob', 'salt': 'Oy8Brmoy', 'md5': 'bd1bb79561fb385d7778ccaa1eb9c241', 'sha1': 'aef54ad0e2928704ab045c239eb98905fe563830', 'sha256': '7806a646a55e99bcbdfbb30e7a6a7913572ac13898fc794f56c960f2b4ce47b1'}, 'dob': {'date': '1949-01-11T21:03:35Z', 'age': 70}, 'registered': {'date': '2016-09-27T23:34:24Z', 'age': 2}, 'phone': '60768192', 'cell': '95448302', 'id': {'name': 'FN', 'value': '11014900839'}, 'picture': {'large': 'https://randomuser.me/api/portraits/men/36.jpg', 'medium': 'https://randomuser.me/api/portraits/med/men/36.jpg', 'thumbnail': 'https://randomuser.me/api/portraits/thumb/men/36.jpg'}, 'nat': 'NO'}, {'gender': 'male', 'name': {'title': 'mr', 'first': 'alexandre', 'last': 'laurent'}, 'location': {'street': \"7495 place de l'europe\", 'city': 'vitry-sur-seine', 'state': 'loire-atlantique', 'postcode': 85881, 'coordinates': {'latitude': '44.5736', 'longitude': '23.5976'}, 'timezone': {'offset': '+2:00', 'description': 'Kaliningrad, South Africa'}}, 'email': 'alexandre.laurent@example.com', 'login': {'uuid': '525a5e5d-211f-45fd-a50e-bb6531c7886e', 'username': 'crazypeacock976', 'password': 'badgirl', 'salt': 'ikeVXX98', 'md5': '41c34dec648e62d50d6dd6c18935d026', 'sha1': 'c936bb64abb957af0e417495e8ee66b1e2705623', 'sha256': '82668c9be75ce4084d292a3bf33cb9f570a25b6cbf67ba67913127f70561f490'}, 'dob': {'date': '1986-09-30T16:58:50Z', 'age': 32}, 'registered': {'date': '2007-09-13T00:00:15Z', 'age': 11}, 'phone': '03-40-71-08-46', 'cell': '06-12-05-06-99', 'id': {'name': 'INSEE', 'value': '1NNaN32455524 47'}, 'picture': {'large': 'https://randomuser.me/api/portraits/men/0.jpg', 'medium': 'https://randomuser.me/api/portraits/med/men/0.jpg', 'thumbnail': 'https://randomuser.me/api/portraits/thumb/men/0.jpg'}, 'nat': 'FR'}, {'gender': 'male', 'name': {'title': 'mr', 'first': 'adam', 'last': 'mitchell'}, 'location': {'street': '8488 dame street', 'city': 'longford', 'state': 'tipperary', 'postcode': 13669, 'coordinates': {'latitude': '49.9504', 'longitude': '25.7769'}, 'timezone': {'offset': '+1:00', 'description': 'Brussels, Copenhagen, Madrid, Paris'}}, 'email': 'adam.mitchell@example.com', 'login': {'uuid': 'd8c0c961-851a-46f7-8336-7f941e581cae', 'username': 'yellowkoala475', 'password': 'barbados', 'salt': 'r21zmCcT', 'md5': '81a12c9c821ed40d409ea768c9a37d1a', 'sha1': 'ee8adb8f0d68c6e30c295b68ac3230b9a98064dd', 'sha256': '2967aa071c5059a88e1d731843d05dd93d37d0949106984bbe230aed3f99373a'}, 'dob': {'date': '1975-10-01T09:07:18Z', 'age': 43}, 'registered': {'date': '2010-09-04T21:46:08Z', 'age': 8}, 'phone': '031-153-3231', 'cell': '081-613-8669', 'id': {'name': 'PPS', 'value': '7784201T'}, 'picture': {'large': 'https://randomuser.me/api/portraits/men/66.jpg', 'medium': 'https://randomuser.me/api/portraits/med/men/66.jpg', 'thumbnail': 'https://randomuser.me/api/portraits/thumb/men/66.jpg'}, 'nat': 'IE'}, {'gender': 'male', 'name': {'title': 'mr', 'first': 'elio', 'last': 'rodriguez'}, 'location': {'street': '4185 rue du moulin', 'city': 'lyon', 'state': 'meuse', 'postcode': 83708, 'coordinates': {'latitude': '-56.9803', 'longitude': '176.8647'}, 'timezone': {'offset': '+6:00', 'description': 'Almaty, Dhaka, Colombo'}}, 'email': 'elio.rodriguez@example.com', 'login': {'uuid': '3d977d50-3ff4-4807-8b3f-9d221cccff14', 'username': 'crazylion522', 'password': 'megane', 'salt': 'rJffEJNF', 'md5': 'e1cbdb0a084b73e18e60784773af9621', 'sha1': '9f8978a2e5b8c94d18a7fcc7b9596f6740e22256', 'sha256': '478b62cf0abaf332ffe633577299bd4c3e15ab33e1db198b10198b5302f009ba'}, 'dob': {'date': '1994-04-03T00:48:43Z', 'age': 25}, 'registered': {'date': '2006-03-28T16:01:57Z', 'age': 13}, 'phone': '03-51-11-41-88', 'cell': '06-13-57-88-72', 'id': {'name': 'INSEE', 'value': '1NNaN97840512 53'}, 'picture': {'large': 'https://randomuser.me/api/portraits/men/36.jpg', 'medium': 'https://randomuser.me/api/portraits/med/men/36.jpg', 'thumbnail': 'https://randomuser.me/api/portraits/thumb/men/36.jpg'}, 'nat': 'FR'}], 'info': {'seed': '47dcaf7301a2d715', 'results': 10, 'page': 1, 'version': '1.2'}}\n"
     ]
    }
   ],
   "source": [
    "print(data)"
   ]
  },
  {
   "cell_type": "markdown",
   "metadata": {},
   "source": [
    "* *pretty-print* (pprint) prints complex data structures like dictionary prettier.  https://docs.python.org/3/library/pprint.html "
   ]
  },
  {
   "cell_type": "code",
   "execution_count": 12,
   "metadata": {},
   "outputs": [
    {
     "name": "stdout",
     "output_type": "stream",
     "text": [
      "{'info': {'page': 1,\n",
      "          'results': 10,\n",
      "          'seed': '47dcaf7301a2d715',\n",
      "          'version': '1.2'},\n",
      " 'results': [{'cell': '(578)-167-2180',\n",
      "              'dob': {'age': 61, 'date': '1957-07-15T18:59:56Z'},\n",
      "              'email': 'umut.erginsoy@example.com',\n",
      "              'gender': 'male',\n",
      "              'id': {'name': '', 'value': None},\n",
      "              'location': {'city': 'İstanbul',\n",
      "                           'coordinates': {'latitude': '76.9455',\n",
      "                                           'longitude': '147.2805'},\n",
      "                           'postcode': 33682,\n",
      "                           'state': 'aydın',\n",
      "                           'street': '5768 mevlana cd',\n",
      "                           'timezone': {'description': 'Eastern Time (US & '\n",
      "                                                       'Canada), Bogota, Lima',\n",
      "                                        'offset': '-5:00'}},\n",
      "              'login': {'md5': '6d03f0094046e26ece39fd16e7295d17',\n",
      "                        'password': 'houses',\n",
      "                        'salt': '6jpAOMjf',\n",
      "                        'sha1': '5d6e5f15da71fddd9826c61ab2b4a6ba1212b65e',\n",
      "                        'sha256': '0a1aba9ab280c8a71fac583ec7f4d8c2022cd70b3271d849210b466fc22bc1c1',\n",
      "                        'username': 'ticklishbird292',\n",
      "                        'uuid': '639e614e-236a-4921-bd13-3721363e0eea'},\n",
      "              'name': {'first': 'umut', 'last': 'erginsoy', 'title': 'mr'},\n",
      "              'nat': 'TR',\n",
      "              'phone': '(123)-280-9968',\n",
      "              'picture': {'large': 'https://randomuser.me/api/portraits/men/18.jpg',\n",
      "                          'medium': 'https://randomuser.me/api/portraits/med/men/18.jpg',\n",
      "                          'thumbnail': 'https://randomuser.me/api/portraits/thumb/men/18.jpg'},\n",
      "              'registered': {'age': 9, 'date': '2009-09-08T06:40:32Z'}},\n",
      "             {'cell': '998-535-6095',\n",
      "              'dob': {'age': 33, 'date': '1985-10-05T01:49:11Z'},\n",
      "              'email': 'liam.bélanger@example.com',\n",
      "              'gender': 'male',\n",
      "              'id': {'name': '', 'value': None},\n",
      "              'location': {'city': 'summerside',\n",
      "                           'coordinates': {'latitude': '71.6158',\n",
      "                                           'longitude': '31.2702'},\n",
      "                           'postcode': 'Z3U 4S1',\n",
      "                           'state': 'yukon',\n",
      "                           'street': '6916 parliament st',\n",
      "                           'timezone': {'description': 'Kabul',\n",
      "                                        'offset': '+4:30'}},\n",
      "              'login': {'md5': '4033876d59d1af1283a84c7b7f7f2f7e',\n",
      "                        'password': 'monster1',\n",
      "                        'salt': 'YC2H5aQL',\n",
      "                        'sha1': '0ccbdd371b7b4ffcc5f050131e829880492d643f',\n",
      "                        'sha256': '160979a1596e1576707e4e28aa6a4c2318d17b7aaff6d0127ed66a28c79a5982',\n",
      "                        'username': 'greenswan496',\n",
      "                        'uuid': 'cd2ac42d-1282-4aba-9f5d-7d8e0a996d7c'},\n",
      "              'name': {'first': 'liam', 'last': 'bélanger', 'title': 'mr'},\n",
      "              'nat': 'CA',\n",
      "              'phone': '069-393-3600',\n",
      "              'picture': {'large': 'https://randomuser.me/api/portraits/men/56.jpg',\n",
      "                          'medium': 'https://randomuser.me/api/portraits/med/men/56.jpg',\n",
      "                          'thumbnail': 'https://randomuser.me/api/portraits/thumb/men/56.jpg'},\n",
      "              'registered': {'age': 10, 'date': '2008-12-14T08:01:13Z'}},\n",
      "             {'cell': '(097)-922-2428',\n",
      "              'dob': {'age': 57, 'date': '1961-06-18T19:58:22Z'},\n",
      "              'email': 'fatih.kuday@example.com',\n",
      "              'gender': 'male',\n",
      "              'id': {'name': '', 'value': None},\n",
      "              'location': {'city': 'giresun',\n",
      "                           'coordinates': {'latitude': '-15.3518',\n",
      "                                           'longitude': '23.6542'},\n",
      "                           'postcode': 78908,\n",
      "                           'state': 'kırşehir',\n",
      "                           'street': '5492 mevlana cd',\n",
      "                           'timezone': {'description': 'Alaska',\n",
      "                                        'offset': '-9:00'}},\n",
      "              'login': {'md5': '62e400f5b6b448ad5a5e93e67ce496f9',\n",
      "                        'password': 'skirt',\n",
      "                        'salt': '6nbdUpzs',\n",
      "                        'sha1': 'c8fde0989417881f345bc0d93984d9cb1c467bde',\n",
      "                        'sha256': '3f6373a7de4408c1c3de2593bf53a4aee876fb0d34e60949ab4c383e471df15a',\n",
      "                        'username': 'redlion358',\n",
      "                        'uuid': '1af5f56a-00fe-4e85-9a1f-8f5c7b2f6818'},\n",
      "              'name': {'first': 'fatih', 'last': 'kuday', 'title': 'mr'},\n",
      "              'nat': 'TR',\n",
      "              'phone': '(317)-656-8340',\n",
      "              'picture': {'large': 'https://randomuser.me/api/portraits/men/12.jpg',\n",
      "                          'medium': 'https://randomuser.me/api/portraits/med/men/12.jpg',\n",
      "                          'thumbnail': 'https://randomuser.me/api/portraits/thumb/men/12.jpg'},\n",
      "              'registered': {'age': 14, 'date': '2004-05-15T10:05:11Z'}},\n",
      "             {'cell': '0179-0288315',\n",
      "              'dob': {'age': 41, 'date': '1977-10-21T12:42:50Z'},\n",
      "              'email': 'jonas.kempe@example.com',\n",
      "              'gender': 'male',\n",
      "              'id': {'name': '', 'value': None},\n",
      "              'location': {'city': 'helmstedt',\n",
      "                           'coordinates': {'latitude': '68.6614',\n",
      "                                           'longitude': '-54.6220'},\n",
      "                           'postcode': 46834,\n",
      "                           'state': 'saarland',\n",
      "                           'street': 'bahnhofstraße 184',\n",
      "                           'timezone': {'description': 'Mountain Time (US & '\n",
      "                                                       'Canada)',\n",
      "                                        'offset': '-7:00'}},\n",
      "              'login': {'md5': '75935761c4b77e6f0b9dd329dc23f8d9',\n",
      "                        'password': 'dickens',\n",
      "                        'salt': 'AgIob92y',\n",
      "                        'sha1': 'dc985668dd4f5a1b97a992293a813e2cec827b88',\n",
      "                        'sha256': '9fc8d4f9f4abeb9b8688b947aeae83235a925d545974c9c585525060bf165fe1',\n",
      "                        'username': 'blackmouse552',\n",
      "                        'uuid': '7ce300b3-64da-4845-a162-b98ae4701ebe'},\n",
      "              'name': {'first': 'jonas', 'last': 'kempe', 'title': 'mr'},\n",
      "              'nat': 'DE',\n",
      "              'phone': '0919-6871124',\n",
      "              'picture': {'large': 'https://randomuser.me/api/portraits/men/98.jpg',\n",
      "                          'medium': 'https://randomuser.me/api/portraits/med/men/98.jpg',\n",
      "                          'thumbnail': 'https://randomuser.me/api/portraits/thumb/men/98.jpg'},\n",
      "              'registered': {'age': 8, 'date': '2010-09-02T21:26:16Z'}},\n",
      "             {'cell': '(787)-636-3225',\n",
      "              'dob': {'age': 52, 'date': '1966-07-02T12:54:16Z'},\n",
      "              'email': 'ümit.orbay@example.com',\n",
      "              'gender': 'male',\n",
      "              'id': {'name': '', 'value': None},\n",
      "              'location': {'city': 'tunceli',\n",
      "                           'coordinates': {'latitude': '-48.3119',\n",
      "                                           'longitude': '-83.7753'},\n",
      "                           'postcode': 17977,\n",
      "                           'state': 'manisa',\n",
      "                           'street': '1090 vatan cd',\n",
      "                           'timezone': {'description': 'Tehran',\n",
      "                                        'offset': '+3:30'}},\n",
      "              'login': {'md5': '7dbe989347ac2a181c32df90a02917e0',\n",
      "                        'password': 'gonzales',\n",
      "                        'salt': 'NSwdVs12',\n",
      "                        'sha1': '542c617c6b413ec7918a176d5609ecf9bb0255f1',\n",
      "                        'sha256': '7ebeb1b0b365b22faee512a7e0dcc402e820741fb84d46ea73584713255a045f',\n",
      "                        'username': 'blackrabbit853',\n",
      "                        'uuid': '473d4862-815b-4661-830f-d642a8a8ff2f'},\n",
      "              'name': {'first': 'ümit', 'last': 'orbay', 'title': 'mr'},\n",
      "              'nat': 'TR',\n",
      "              'phone': '(554)-437-7406',\n",
      "              'picture': {'large': 'https://randomuser.me/api/portraits/men/17.jpg',\n",
      "                          'medium': 'https://randomuser.me/api/portraits/med/men/17.jpg',\n",
      "                          'thumbnail': 'https://randomuser.me/api/portraits/thumb/men/17.jpg'},\n",
      "              'registered': {'age': 15, 'date': '2003-06-17T03:33:56Z'}},\n",
      "             {'cell': '47455397',\n",
      "              'dob': {'age': 22, 'date': '1997-01-20T07:13:24Z'},\n",
      "              'email': 'karim.aanonsen@example.com',\n",
      "              'gender': 'male',\n",
      "              'id': {'name': 'FN', 'value': '20019721427'},\n",
      "              'location': {'city': 'snurråsen',\n",
      "                           'coordinates': {'latitude': '23.1441',\n",
      "                                           'longitude': '110.5317'},\n",
      "                           'postcode': '5203',\n",
      "                           'state': 'oppland',\n",
      "                           'street': 'roald amundsens gate 8209',\n",
      "                           'timezone': {'description': 'Magadan, Solomon '\n",
      "                                                       'Islands, New Caledonia',\n",
      "                                        'offset': '+11:00'}},\n",
      "              'login': {'md5': 'c7ddcacafebaa5a3634edce222eb240e',\n",
      "                        'password': 'babybaby',\n",
      "                        'salt': 'kxPw5v1j',\n",
      "                        'sha1': '34710a53d226d5ac41be5dcda397798170332352',\n",
      "                        'sha256': '8f1fa5b35ef2039d5fe4432afa32c5d9f291d8f337d14b72c29a6dfbdbb8babc',\n",
      "                        'username': 'beautifulzebra418',\n",
      "                        'uuid': 'c2247e04-de51-48ee-ba91-fc81ab50c4dd'},\n",
      "              'name': {'first': 'karim', 'last': 'aanonsen', 'title': 'mr'},\n",
      "              'nat': 'NO',\n",
      "              'phone': '50976332',\n",
      "              'picture': {'large': 'https://randomuser.me/api/portraits/men/16.jpg',\n",
      "                          'medium': 'https://randomuser.me/api/portraits/med/men/16.jpg',\n",
      "                          'thumbnail': 'https://randomuser.me/api/portraits/thumb/men/16.jpg'},\n",
      "              'registered': {'age': 3, 'date': '2015-11-16T23:28:43Z'}},\n",
      "             {'cell': '95448302',\n",
      "              'dob': {'age': 70, 'date': '1949-01-11T21:03:35Z'},\n",
      "              'email': 'adam.skotnes@example.com',\n",
      "              'gender': 'male',\n",
      "              'id': {'name': 'FN', 'value': '11014900839'},\n",
      "              'location': {'city': 'mosterhamn',\n",
      "                           'coordinates': {'latitude': '-17.9906',\n",
      "                                           'longitude': '-132.3702'},\n",
      "                           'postcode': '2687',\n",
      "                           'state': 'hordaland',\n",
      "                           'street': 'børsteveien 9922',\n",
      "                           'timezone': {'description': 'Tehran',\n",
      "                                        'offset': '+3:30'}},\n",
      "              'login': {'md5': 'bd1bb79561fb385d7778ccaa1eb9c241',\n",
      "                        'password': 'joebob',\n",
      "                        'salt': 'Oy8Brmoy',\n",
      "                        'sha1': 'aef54ad0e2928704ab045c239eb98905fe563830',\n",
      "                        'sha256': '7806a646a55e99bcbdfbb30e7a6a7913572ac13898fc794f56c960f2b4ce47b1',\n",
      "                        'username': 'yellowmeercat379',\n",
      "                        'uuid': 'cd612996-75cc-4709-bdb9-4a5448c7ff8b'},\n",
      "              'name': {'first': 'adam', 'last': 'skotnes', 'title': 'mr'},\n",
      "              'nat': 'NO',\n",
      "              'phone': '60768192',\n",
      "              'picture': {'large': 'https://randomuser.me/api/portraits/men/36.jpg',\n",
      "                          'medium': 'https://randomuser.me/api/portraits/med/men/36.jpg',\n",
      "                          'thumbnail': 'https://randomuser.me/api/portraits/thumb/men/36.jpg'},\n",
      "              'registered': {'age': 2, 'date': '2016-09-27T23:34:24Z'}},\n",
      "             {'cell': '06-12-05-06-99',\n",
      "              'dob': {'age': 32, 'date': '1986-09-30T16:58:50Z'},\n",
      "              'email': 'alexandre.laurent@example.com',\n",
      "              'gender': 'male',\n",
      "              'id': {'name': 'INSEE', 'value': '1NNaN32455524 47'},\n",
      "              'location': {'city': 'vitry-sur-seine',\n",
      "                           'coordinates': {'latitude': '44.5736',\n",
      "                                           'longitude': '23.5976'},\n",
      "                           'postcode': 85881,\n",
      "                           'state': 'loire-atlantique',\n",
      "                           'street': \"7495 place de l'europe\",\n",
      "                           'timezone': {'description': 'Kaliningrad, South '\n",
      "                                                       'Africa',\n",
      "                                        'offset': '+2:00'}},\n",
      "              'login': {'md5': '41c34dec648e62d50d6dd6c18935d026',\n",
      "                        'password': 'badgirl',\n",
      "                        'salt': 'ikeVXX98',\n",
      "                        'sha1': 'c936bb64abb957af0e417495e8ee66b1e2705623',\n",
      "                        'sha256': '82668c9be75ce4084d292a3bf33cb9f570a25b6cbf67ba67913127f70561f490',\n",
      "                        'username': 'crazypeacock976',\n",
      "                        'uuid': '525a5e5d-211f-45fd-a50e-bb6531c7886e'},\n",
      "              'name': {'first': 'alexandre', 'last': 'laurent', 'title': 'mr'},\n",
      "              'nat': 'FR',\n",
      "              'phone': '03-40-71-08-46',\n",
      "              'picture': {'large': 'https://randomuser.me/api/portraits/men/0.jpg',\n",
      "                          'medium': 'https://randomuser.me/api/portraits/med/men/0.jpg',\n",
      "                          'thumbnail': 'https://randomuser.me/api/portraits/thumb/men/0.jpg'},\n",
      "              'registered': {'age': 11, 'date': '2007-09-13T00:00:15Z'}},\n",
      "             {'cell': '081-613-8669',\n",
      "              'dob': {'age': 43, 'date': '1975-10-01T09:07:18Z'},\n",
      "              'email': 'adam.mitchell@example.com',\n",
      "              'gender': 'male',\n",
      "              'id': {'name': 'PPS', 'value': '7784201T'},\n",
      "              'location': {'city': 'longford',\n",
      "                           'coordinates': {'latitude': '49.9504',\n",
      "                                           'longitude': '25.7769'},\n",
      "                           'postcode': 13669,\n",
      "                           'state': 'tipperary',\n",
      "                           'street': '8488 dame street',\n",
      "                           'timezone': {'description': 'Brussels, Copenhagen, '\n",
      "                                                       'Madrid, Paris',\n",
      "                                        'offset': '+1:00'}},\n",
      "              'login': {'md5': '81a12c9c821ed40d409ea768c9a37d1a',\n",
      "                        'password': 'barbados',\n",
      "                        'salt': 'r21zmCcT',\n",
      "                        'sha1': 'ee8adb8f0d68c6e30c295b68ac3230b9a98064dd',\n",
      "                        'sha256': '2967aa071c5059a88e1d731843d05dd93d37d0949106984bbe230aed3f99373a',\n",
      "                        'username': 'yellowkoala475',\n",
      "                        'uuid': 'd8c0c961-851a-46f7-8336-7f941e581cae'},\n",
      "              'name': {'first': 'adam', 'last': 'mitchell', 'title': 'mr'},\n",
      "              'nat': 'IE',\n",
      "              'phone': '031-153-3231',\n",
      "              'picture': {'large': 'https://randomuser.me/api/portraits/men/66.jpg',\n",
      "                          'medium': 'https://randomuser.me/api/portraits/med/men/66.jpg',\n",
      "                          'thumbnail': 'https://randomuser.me/api/portraits/thumb/men/66.jpg'},\n",
      "              'registered': {'age': 8, 'date': '2010-09-04T21:46:08Z'}},\n",
      "             {'cell': '06-13-57-88-72',\n",
      "              'dob': {'age': 25, 'date': '1994-04-03T00:48:43Z'},\n",
      "              'email': 'elio.rodriguez@example.com',\n",
      "              'gender': 'male',\n",
      "              'id': {'name': 'INSEE', 'value': '1NNaN97840512 53'},\n",
      "              'location': {'city': 'lyon',\n",
      "                           'coordinates': {'latitude': '-56.9803',\n",
      "                                           'longitude': '176.8647'},\n",
      "                           'postcode': 83708,\n",
      "                           'state': 'meuse',\n",
      "                           'street': '4185 rue du moulin',\n",
      "                           'timezone': {'description': 'Almaty, Dhaka, Colombo',\n",
      "                                        'offset': '+6:00'}},\n",
      "              'login': {'md5': 'e1cbdb0a084b73e18e60784773af9621',\n",
      "                        'password': 'megane',\n",
      "                        'salt': 'rJffEJNF',\n",
      "                        'sha1': '9f8978a2e5b8c94d18a7fcc7b9596f6740e22256',\n",
      "                        'sha256': '478b62cf0abaf332ffe633577299bd4c3e15ab33e1db198b10198b5302f009ba',\n",
      "                        'username': 'crazylion522',\n",
      "                        'uuid': '3d977d50-3ff4-4807-8b3f-9d221cccff14'},\n",
      "              'name': {'first': 'elio', 'last': 'rodriguez', 'title': 'mr'},\n",
      "              'nat': 'FR',\n",
      "              'phone': '03-51-11-41-88',\n",
      "              'picture': {'large': 'https://randomuser.me/api/portraits/men/36.jpg',\n",
      "                          'medium': 'https://randomuser.me/api/portraits/med/men/36.jpg',\n",
      "                          'thumbnail': 'https://randomuser.me/api/portraits/thumb/men/36.jpg'},\n",
      "              'registered': {'age': 13, 'date': '2006-03-28T16:01:57Z'}}]}\n"
     ]
    }
   ],
   "source": [
    "from pprint import pprint\n",
    "pprint(data)"
   ]
  },
  {
   "cell_type": "markdown",
   "metadata": {},
   "source": [
    "* Loop through the dictionary and print all first names"
   ]
  },
  {
   "cell_type": "code",
   "execution_count": 14,
   "metadata": {},
   "outputs": [
    {
     "ename": "TypeError",
     "evalue": "string indices must be integers",
     "output_type": "error",
     "traceback": [
      "\u001b[1;31m---------------------------------------------------------------------------\u001b[0m",
      "\u001b[1;31mTypeError\u001b[0m                                 Traceback (most recent call last)",
      "\u001b[1;32m<ipython-input-14-14c955093f0a>\u001b[0m in \u001b[0;36m<module>\u001b[1;34m()\u001b[0m\n\u001b[0;32m      2\u001b[0m \u001b[1;32mfor\u001b[0m \u001b[0mp\u001b[0m \u001b[1;32min\u001b[0m \u001b[0mdata\u001b[0m\u001b[1;33m[\u001b[0m\u001b[1;34m'results'\u001b[0m\u001b[1;33m]\u001b[0m\u001b[1;33m:\u001b[0m\u001b[1;33m\u001b[0m\u001b[0m\n\u001b[0;32m      3\u001b[0m     \u001b[1;32mfor\u001b[0m \u001b[0mk\u001b[0m \u001b[1;32min\u001b[0m \u001b[0mp\u001b[0m\u001b[1;33m[\u001b[0m\u001b[1;34m'name'\u001b[0m\u001b[1;33m]\u001b[0m\u001b[1;33m:\u001b[0m\u001b[1;33m\u001b[0m\u001b[0m\n\u001b[1;32m----> 4\u001b[1;33m         \u001b[0mprint\u001b[0m\u001b[1;33m(\u001b[0m\u001b[0mk\u001b[0m\u001b[1;33m[\u001b[0m\u001b[1;34m'first'\u001b[0m\u001b[1;33m]\u001b[0m\u001b[1;33m)\u001b[0m\u001b[1;33m\u001b[0m\u001b[0m\n\u001b[0m",
      "\u001b[1;31mTypeError\u001b[0m: string indices must be integers"
     ]
    }
   ],
   "source": [
    "# TODO\n",
    "for p in data['results']:\n",
    "    for k in p['name']:\n",
    "        print(k['first'])"
   ]
  },
  {
   "cell_type": "markdown",
   "metadata": {},
   "source": [
    "* Get all astronauts who are right now in space. You get the information about the Web APU from here  http://open-notify.org/Open-Notify-API/People-In-Space/ "
   ]
  },
  {
   "cell_type": "code",
   "execution_count": 15,
   "metadata": {},
   "outputs": [
    {
     "name": "stdout",
     "output_type": "stream",
     "text": [
      "6\n"
     ]
    }
   ],
   "source": [
    "# TODO\n",
    "astr_response = requests.get(\"http://api.open-notify.org/astros.json\")\n",
    "astr_data = json.loads(astr_response.text)\n",
    "print(astr_data['number'])"
   ]
  },
  {
   "cell_type": "markdown",
   "metadata": {},
   "source": [
    "* Print the number of people that are right now in space"
   ]
  },
  {
   "cell_type": "code",
   "execution_count": 16,
   "metadata": {},
   "outputs": [
    {
     "name": "stdout",
     "output_type": "stream",
     "text": [
      "Oleg Kononenko\n",
      "David Saint-Jacques\n",
      "Anne McClain\n",
      "Alexey Ovchinin\n",
      "Nick Hague\n",
      "Christina Koch\n"
     ]
    }
   ],
   "source": [
    "# TODO\n",
    "for p in astr_data['people']:\n",
    "    print(p['name'])"
   ]
  },
  {
   "cell_type": "markdown",
   "metadata": {},
   "source": [
    "* Print the names of all astronauts "
   ]
  },
  {
   "cell_type": "code",
   "execution_count": null,
   "metadata": {
    "collapsed": true
   },
   "outputs": [],
   "source": [
    "# TODO"
   ]
  },
  {
   "cell_type": "markdown",
   "metadata": {},
   "source": [
    "* A lot of Web APIs require a api-key for interacting with them (like Twitter, Facebook, …). You find at http://www.python-requests.org/en/latest/user/authentication/ more information for Authentication for Web APIs with the request package\n",
    "* There are also special Python packages for interacting with services. E.g. for Twitter: http://www.tweepy.org/ or  https://github.com/bear/python-twitter \n",
    "\n",
    "See e.g. http://socialmedia-class.org/twittertutorial.html for a tutorial"
   ]
  },
  {
   "cell_type": "markdown",
   "metadata": {},
   "source": [
    "## 2. Creating a Web API\n",
    "\n",
    "* Create a folder `webapi` and change into it.\n",
    "* Create in the `webapi` folder a file with the name `Dockerfile` with the following content:\n",
    "\n",
    "----\n",
    "```bash\n",
    "# Use an official Python runtime as a parent image\n",
    "FROM python:3.7-slim\n",
    "\n",
    "# Set the working directory to /app\n",
    "WORKDIR /app\n",
    "\n",
    "# Copy the current directory contents into the container at /app\n",
    "COPY app/ /app\n",
    "\n",
    "# Install any needed packages specified in requirements.txt\n",
    "RUN pip install --trusted-host pypi.python.org -r requirements.txt\n",
    "\n",
    "# Make port 80 available to the world outside this container\n",
    "EXPOSE 80\n",
    "\n",
    "# Run app.py when the container launches\n",
    "CMD [\"python\", \"app.py\"]\n",
    "```\n",
    "\n",
    "-----\n",
    "\n",
    "* We can also use Docker compose with just one service. Create in your `webapi` folder a `docker-compose.yml` file:\n",
    "\n",
    "-----\n",
    "\n",
    "```yaml\n",
    "version: '3'\n",
    "services:\n",
    "  api:\n",
    "    build: .\n",
    "    ports:\n",
    "      - \"5000:80\"\n",
    "    restart: always\n",
    "    volumes:\n",
    "      - ./app:/app\n",
    "```\n",
    "-----\n",
    "\n",
    "* Create a folder in the `webapi` folder a new folder with the name `app`\n",
    "* We will build a web API with `Flask` (http://flask.pocoo.org/) . Create a `requirements.txt` file in the `app` folder. Here we can specify all python `pip` packages that we need:\n",
    "\n",
    "-----\n",
    "```bash\n",
    "Flask\n",
    "```\n",
    "-----\n",
    "\n",
    "* Create the `app.py` file in the `app` folder:\n",
    "\n",
    "-----\n",
    "```python\n",
    "from flask import Flask\n",
    "from flask import request, jsonify\n",
    "\n",
    "app = Flask(__name__)\n",
    "\n",
    "courses = [\n",
    "    {'id': 0,\n",
    "     'title': 'Data Science',\n",
    "     'professor': 'Markus Löcher',\n",
    "     'semester': '1'},\n",
    "    {'id': 1,\n",
    "     'title': 'Data Warehousing',\n",
    "     'professor': 'Roland M. Mueller',\n",
    "     'semester': '1'},\n",
    "    {'id': 2,\n",
    "     'title': 'Business Process Management',\n",
    "     'professor': 'Frank Habermann',\n",
    "     'semester': '1'},\n",
    "    {'id': 3,\n",
    "     'title': 'Stratigic Issues of IT',\n",
    "     'professor': 'Sven Pohland',\n",
    "     'semester': '1'},\n",
    "    {'id': 4,\n",
    "     'title': 'Text, Web and Social Media Analytics Lab',\n",
    "     'professor': 'Markus Löcher',\n",
    "     'semester': '2'},\n",
    "    {'id': 5,\n",
    "     'title': 'Enterprise Architectures for Big Data',\n",
    "     'professor': 'Roland M. Mueller',\n",
    "     'semester': '2'},\n",
    "    {'id': 6,\n",
    "     'title': 'Business Process Integration Lab',\n",
    "     'professor': 'Frank Habermann',\n",
    "     'semester': '2'},\n",
    "    {'id': 7,\n",
    "     'title': 'IT-Security and Privacy',\n",
    "     'professor': 'Dennis Uckel',\n",
    "     'semester': '2'},\n",
    "    {'id': 8,\n",
    "     'title': 'Research Methods',\n",
    "     'professor': 'Marcus Birkenkrahe',\n",
    "     'semester': '2'},\n",
    "]\n",
    "\n",
    "@app.route('/api/v1/courses/all', methods=['GET'])\n",
    "def api_all():\n",
    "    return jsonify(courses)\n",
    "\n",
    "@app.route('/api/v1/courses', methods=['GET'])\n",
    "def api_id():\n",
    "    # Check if an ID was provided as part of the URL.\n",
    "    # If ID is provided, assign it to a variable.\n",
    "    # If no ID is provided, display an error in the browser.\n",
    "    if 'id' in request.args:\n",
    "        id = int(request.args['id'])\n",
    "    else:\n",
    "        return \"Error: No id field provided. Please specify an id.\"\n",
    "\n",
    "    # Create an empty list for our results\n",
    "    results = []\n",
    "\n",
    "    # Loop through the data and match results that fit the requested ID.\n",
    "    # IDs are unique, but other fields might return many results\n",
    "    for course in courses:\n",
    "        if course['id'] == id:\n",
    "            results.append(course)\n",
    "\n",
    "    # Use the jsonify function from Flask to convert our list of\n",
    "    # Python dictionaries to the JSON format.\n",
    "    return jsonify(results)\n",
    "\n",
    "if __name__ == \"__main__\":\n",
    "    app.run(host=\"0.0.0.0\", port=80, debug=True)\n",
    "```\n",
    "-----\n",
    "* Open http://localhost:5000/api/v1/courses/all in a browser\n",
    "* Open http://localhost:5000/api/v1/courses?id=5 in a browser\n"
   ]
  },
  {
   "cell_type": "markdown",
   "metadata": {
    "collapsed": true
   },
   "source": [
    "* Use your own API here in the Jupyter Notebook with Python and print all names of all courses "
   ]
  },
  {
   "cell_type": "code",
   "execution_count": 23,
   "metadata": {},
   "outputs": [
    {
     "name": "stdout",
     "output_type": "stream",
     "text": [
      "Data Science\n",
      "Data Warehousing\n",
      "Business Process Management\n",
      "Stratigic Issues of IT\n",
      "Text, Web and Social Media Analytics Lab\n",
      "Enterprise Architectures for Big Data\n",
      "Business Process Integration Lab\n",
      "IT-Security and Privacy\n",
      "Research Methods\n"
     ]
    }
   ],
   "source": [
    "# TODO\n",
    "webapi_response = requests.get(\"http://192.168.99.100:5000/api/v1/courses/all\")\n",
    "webapi_data = json.loads(webapi_response.text)\n",
    "for p in webapi_data:\n",
    "    print(p['title'])"
   ]
  },
  {
   "cell_type": "markdown",
   "metadata": {},
   "source": [
    "* Add the possibility to find courses based on the semester\n",
    "* Use your API in Python and print all names of all courses in the second semester"
   ]
  },
  {
   "cell_type": "code",
   "execution_count": null,
   "metadata": {
    "collapsed": true
   },
   "outputs": [],
   "source": [
    "# TODO"
   ]
  },
  {
   "cell_type": "markdown",
   "metadata": {},
   "source": [
    "* Add a function that can convert Fahrenheit to Celsius \n",
    "* Call your API and get the Celsius value for 100°F Fahrenheit"
   ]
  },
  {
   "cell_type": "code",
   "execution_count": null,
   "metadata": {
    "collapsed": true
   },
   "outputs": [],
   "source": [
    "# TODO"
   ]
  }
 ],
 "metadata": {
  "kernelspec": {
   "display_name": "Python 3",
   "language": "python",
   "name": "python3"
  },
  "language_info": {
   "codemirror_mode": {
    "name": "ipython",
    "version": 3
   },
   "file_extension": ".py",
   "mimetype": "text/x-python",
   "name": "python",
   "nbconvert_exporter": "python",
   "pygments_lexer": "ipython3",
   "version": "3.7.0"
  },
  "varInspector": {
   "cols": {
    "lenName": 16,
    "lenType": 16,
    "lenVar": 40
   },
   "kernels_config": {
    "python": {
     "delete_cmd_postfix": "",
     "delete_cmd_prefix": "del ",
     "library": "var_list.py",
     "varRefreshCmd": "print(var_dic_list())"
    },
    "r": {
     "delete_cmd_postfix": ") ",
     "delete_cmd_prefix": "rm(",
     "library": "var_list.r",
     "varRefreshCmd": "cat(var_dic_list()) "
    }
   },
   "types_to_exclude": [
    "module",
    "function",
    "builtin_function_or_method",
    "instance",
    "_Feature"
   ],
   "window_display": false
  }
 },
 "nbformat": 4,
 "nbformat_minor": 2
}
