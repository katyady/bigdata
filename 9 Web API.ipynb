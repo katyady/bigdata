{
 "cells": [
  {
   "cell_type": "markdown",
   "metadata": {},
   "source": [
    "# Web APIs\n",
    "\n",
    "## 1. Consuming Web APIs\n",
    "\n",
    "(Partially adapted from https://www.dataquest.io/blog/python-api-tutorial/)\n",
    "\n",
    "* https://randomuser.me/ is a random user generator \n",
    "*\tIt has an API. Go to https://api.randomuser.me/ with your browser\n",
    "*\tYou get a JSON (JavaScript Object Notation) back. A JSON is similar to a Python dictionary.  \n",
    "*  Refresh the browser\n",
    "*\tYou can add query parameters. They are added to the URL with a ? . You then add then the parameter name = the value. More the one parameter are connected with a & e.g.\n",
    "\thttp://api.open-notify.org/iss-pass.json?lat=37.78&lon=-122.41\n",
    "\n",
    "*\t Go the documentation https://randomuser.me/documentation and check how you can get multiple users and to specify constraints on the output\n",
    "*\tGo to your browser and add parameters to https://api.randomuser.me/ so that you get 5 results of only males from the US\n",
    "\n",
    "Enter the URL of your solution:"
   ]
  },
  {
   "cell_type": "code",
   "execution_count": 7,
   "metadata": {},
   "outputs": [],
   "source": [
    "# TODO: get 5 results of only males from the US\n",
    "# Enter the URL of your solution:\n",
    "url = https://api.randomuser.me/?results=5&gender=male&nat=us"
   ]
  },
  {
   "cell_type": "markdown",
   "metadata": {},
   "source": [
    "* You can also get the data from the command line. Open the command line and write\n",
    "\n",
    "```bash\n",
    "curl -s https://api.randomuser.me/\n",
    "```\n",
    "\n",
    "You can also run Bash commands directly in your Jupyter Notebook with !:"
   ]
  },
  {
   "cell_type": "code",
   "execution_count": null,
   "metadata": {
    "collapsed": true
   },
   "outputs": [],
   "source": [
    "!curl -s https://api.randomuser.me/"
   ]
  },
  {
   "cell_type": "markdown",
   "metadata": {},
   "source": [
    "* Import the two libraries \n",
    "    * `requests` and \n",
    "    * `json`. \n",
    "\n",
    "You can find the documentation for the requests package here:\n",
    " http://www.python-requests.org/en/latest/ \n",
    " "
   ]
  },
  {
   "cell_type": "code",
   "execution_count": 8,
   "metadata": {},
   "outputs": [],
   "source": [
    "# TODO\n",
    "import requests\n",
    "import json"
   ]
  },
  {
   "cell_type": "markdown",
   "metadata": {},
   "source": [
    "* With the requests package you can call a Web API with the URL and the method get"
   ]
  },
  {
   "cell_type": "code",
   "execution_count": 9,
   "metadata": {},
   "outputs": [],
   "source": [
    "response = requests.get(\"https://api.randomuser.me/\")"
   ]
  },
  {
   "cell_type": "markdown",
   "metadata": {},
   "source": [
    "* Print the status code of the request"
   ]
  },
  {
   "cell_type": "code",
   "execution_count": 10,
   "metadata": {},
   "outputs": [
    {
     "name": "stdout",
     "output_type": "stream",
     "text": [
      "200\n"
     ]
    }
   ],
   "source": [
    "print(response.status_code)"
   ]
  },
  {
   "cell_type": "markdown",
   "metadata": {},
   "source": [
    "**The meaning of the status codes are:**\n",
    "* 200: everything went okay, and the result has been returned (if any)\n",
    "* 301: the server is redirecting you to a different endpoint. This can happen when a company switches domain names, or an endpoint name is changed.\n",
    "* 401: the server thinks you're not authenticated. This happens when you don't send the right credentials to access an API.\n",
    "* 400: the server thinks you made a bad request. This can happen when you don't send along the right data, among other things.\n",
    "* 403: the resource you're trying to access is forbidden – you don't have the right permissions to see it.\n",
    "* 404: the resource you tried to access wasn't found on the server.\n"
   ]
  },
  {
   "cell_type": "markdown",
   "metadata": {},
   "source": [
    "You can specify the query parameters for a URL with a Python dictionary like this:\n",
    "```python\n",
    "parameters = {\"lat\": 37.78, \"lon\": -122.41}\n",
    "```\n",
    "\n",
    "And pass the parameter to the request like this\n",
    "```python\n",
    "response = requests.get(\"http://api.open-notify.org/iss-pass.json\", params=parameters)\n",
    "```\n",
    "This is the same as \n",
    "```python\n",
    "response = requests.get(\"http://api.open-notify.org/iss-pass.json?lat=37.78&lon=-122.41\")\n",
    "```\n",
    "\n",
    "Alternatively you could build also the URL with the parameters by yourself with string concatenation. \n",
    "\n",
    "* Get with the request method 10 results of only males from the US.\n",
    "\n"
   ]
  },
  {
   "cell_type": "code",
   "execution_count": 21,
   "metadata": {},
   "outputs": [],
   "source": [
    "# TODO: Get with the request method 10 results of only males from the US.\n",
    "response = requests.get(\"https://api.randomuser.me/?results=10&gender=male\")"
   ]
  },
  {
   "cell_type": "markdown",
   "metadata": {},
   "source": [
    "* You can show the result of the request with the method text"
   ]
  },
  {
   "cell_type": "code",
   "execution_count": 22,
   "metadata": {
    "scrolled": true
   },
   "outputs": [
    {
     "data": {
      "text/plain": [
       "'{\"results\":[{\"gender\":\"male\",\"name\":{\"title\":\"mr\",\"first\":\"matthew\",\"last\":\"kowalski\"},\"location\":{\"street\":\"9344 cedar st\",\"city\":\"tecumseh\",\"state\":\"nova scotia\",\"postcode\":\"K8G 9D6\",\"coordinates\":{\"latitude\":\"-68.4369\",\"longitude\":\"48.7338\"},\"timezone\":{\"offset\":\"-12:00\",\"description\":\"Eniwetok, Kwajalein\"}},\"email\":\"matthew.kowalski@example.com\",\"login\":{\"uuid\":\"70e3e871-9fe4-4d3d-af1b-7cb7f70199a5\",\"username\":\"yellowbutterfly747\",\"password\":\"gunther\",\"salt\":\"fK05r1m2\",\"md5\":\"5c60fe69276897bd43e09886e22bbeb7\",\"sha1\":\"9745aaeebba0b4d1e1c15867512e70d171f925d3\",\"sha256\":\"9247215f3c4d838ddbaf1a7c215f279e96b6d00aa3df96ee3bfb600fa2d60451\"},\"dob\":{\"date\":\"1970-10-05T09:09:03Z\",\"age\":48},\"registered\":{\"date\":\"2015-04-26T11:12:32Z\",\"age\":4},\"phone\":\"494-016-5639\",\"cell\":\"023-718-5038\",\"id\":{\"name\":\"\",\"value\":null},\"picture\":{\"large\":\"https://randomuser.me/api/portraits/men/73.jpg\",\"medium\":\"https://randomuser.me/api/portraits/med/men/73.jpg\",\"thumbnail\":\"https://randomuser.me/api/portraits/thumb/men/73.jpg\"},\"nat\":\"CA\"},{\"gender\":\"male\",\"name\":{\"title\":\"mr\",\"first\":\"cooper\",\"last\":\"turner\"},\"location\":{\"street\":\"3313 new north road\",\"city\":\"hastings\",\"state\":\"nelson\",\"postcode\":59412,\"coordinates\":{\"latitude\":\"88.5348\",\"longitude\":\"-170.1413\"},\"timezone\":{\"offset\":\"+3:00\",\"description\":\"Baghdad, Riyadh, Moscow, St. Petersburg\"}},\"email\":\"cooper.turner@example.com\",\"login\":{\"uuid\":\"36b3d804-d6d3-4e2a-94c8-59578beb37bc\",\"username\":\"blackmeercat227\",\"password\":\"storms\",\"salt\":\"S5RmETW5\",\"md5\":\"94dc014ad979310e0a2331dcf73df73b\",\"sha1\":\"c43006eab6b4d03b9241f13ebf567ca097f27b7c\",\"sha256\":\"bf21de49f93395aed75f12c99e7ea02ff29e2a10702c665034445aa225ee6690\"},\"dob\":{\"date\":\"1984-08-27T20:31:38Z\",\"age\":34},\"registered\":{\"date\":\"2003-04-01T18:15:49Z\",\"age\":16},\"phone\":\"(843)-910-3011\",\"cell\":\"(917)-701-0764\",\"id\":{\"name\":\"\",\"value\":null},\"picture\":{\"large\":\"https://randomuser.me/api/portraits/men/10.jpg\",\"medium\":\"https://randomuser.me/api/portraits/med/men/10.jpg\",\"thumbnail\":\"https://randomuser.me/api/portraits/thumb/men/10.jpg\"},\"nat\":\"NZ\"},{\"gender\":\"male\",\"name\":{\"title\":\"mr\",\"first\":\"henk-jan\",\"last\":\"van maarseveen\"},\"location\":{\"street\":\"9910 moreelsepark\",\"city\":\"haaren\",\"state\":\"gelderland\",\"postcode\":26156,\"coordinates\":{\"latitude\":\"72.9883\",\"longitude\":\"130.3779\"},\"timezone\":{\"offset\":\"-11:00\",\"description\":\"Midway Island, Samoa\"}},\"email\":\"henk-jan.vanmaarseveen@example.com\",\"login\":{\"uuid\":\"292c11e7-6f10-4512-ae2c-c021cb7b5d0f\",\"username\":\"ticklishleopard875\",\"password\":\"county\",\"salt\":\"WBNyB3Pp\",\"md5\":\"b648a9e0ddf0922fd09815c1fb69ce43\",\"sha1\":\"71153d63f8b440278815817d6e789d11407e16c1\",\"sha256\":\"5b639d56842dec543dcefe579053676fa3a2e54516e2790376e3a2474a60185e\"},\"dob\":{\"date\":\"1959-05-15T01:47:28Z\",\"age\":59},\"registered\":{\"date\":\"2003-10-11T11:35:28Z\",\"age\":15},\"phone\":\"(955)-518-3810\",\"cell\":\"(309)-975-1700\",\"id\":{\"name\":\"BSN\",\"value\":\"73630757\"},\"picture\":{\"large\":\"https://randomuser.me/api/portraits/men/69.jpg\",\"medium\":\"https://randomuser.me/api/portraits/med/men/69.jpg\",\"thumbnail\":\"https://randomuser.me/api/portraits/thumb/men/69.jpg\"},\"nat\":\"NL\"},{\"gender\":\"male\",\"name\":{\"title\":\"monsieur\",\"first\":\"siegfried\",\"last\":\"laurent\"},\"location\":{\"street\":\"8925 rue de la baleine\",\"city\":\"basse-allaine\",\"state\":\"nidwalden\",\"postcode\":1684,\"coordinates\":{\"latitude\":\"20.1750\",\"longitude\":\"-64.2264\"},\"timezone\":{\"offset\":\"+9:30\",\"description\":\"Adelaide, Darwin\"}},\"email\":\"siegfried.laurent@example.com\",\"login\":{\"uuid\":\"52c7a67e-a44d-48d4-9be9-892d5d1050fe\",\"username\":\"blueelephant569\",\"password\":\"dookie\",\"salt\":\"spTEMAKh\",\"md5\":\"3cd05a8ca34da842f67df5f1cc87072e\",\"sha1\":\"14433063561862134f6121dc66782fc85ae4d4f7\",\"sha256\":\"b335249ec142eb25228ebcb0d77079ecdb7a1b735cf2890e01029c86334c8332\"},\"dob\":{\"date\":\"1952-06-05T11:54:34Z\",\"age\":66},\"registered\":{\"date\":\"2017-11-28T01:32:49Z\",\"age\":1},\"phone\":\"(234)-955-6996\",\"cell\":\"(657)-792-2739\",\"id\":{\"name\":\"AVS\",\"value\":\"756.3894.2584.50\"},\"picture\":{\"large\":\"https://randomuser.me/api/portraits/men/12.jpg\",\"medium\":\"https://randomuser.me/api/portraits/med/men/12.jpg\",\"thumbnail\":\"https://randomuser.me/api/portraits/thumb/men/12.jpg\"},\"nat\":\"CH\"},{\"gender\":\"male\",\"name\":{\"title\":\"mr\",\"first\":\"alexandre\",\"last\":\"lévesque\"},\"location\":{\"street\":\"6659 3rd st\",\"city\":\"deer lake\",\"state\":\"nunavut\",\"postcode\":\"H2N 0W5\",\"coordinates\":{\"latitude\":\"38.2564\",\"longitude\":\"8.1047\"},\"timezone\":{\"offset\":\"+4:30\",\"description\":\"Kabul\"}},\"email\":\"alexandre.lévesque@example.com\",\"login\":{\"uuid\":\"1b01c5b6-0c8b-43e7-ae90-8d44b7969142\",\"username\":\"ticklishmouse867\",\"password\":\"brutus\",\"salt\":\"eWHnELSl\",\"md5\":\"ffd02f102884e463774c67f4b1be6f0f\",\"sha1\":\"4dc7f9e1cda6855aede4dda1ffc30d11ad165081\",\"sha256\":\"edd5c6302d682eb8c0bf3e6d56e9c276458e16096ec5c5190f6932ac4f38f167\"},\"dob\":{\"date\":\"1956-01-04T09:24:45Z\",\"age\":63},\"registered\":{\"date\":\"2002-04-28T07:37:50Z\",\"age\":17},\"phone\":\"469-706-3822\",\"cell\":\"905-447-1807\",\"id\":{\"name\":\"\",\"value\":null},\"picture\":{\"large\":\"https://randomuser.me/api/portraits/men/14.jpg\",\"medium\":\"https://randomuser.me/api/portraits/med/men/14.jpg\",\"thumbnail\":\"https://randomuser.me/api/portraits/thumb/men/14.jpg\"},\"nat\":\"CA\"},{\"gender\":\"male\",\"name\":{\"title\":\"mr\",\"first\":\"brad\",\"last\":\"anderson\"},\"location\":{\"street\":\"24 o\\'connell street\",\"city\":\"ballina\",\"state\":\"westmeath\",\"postcode\":38323,\"coordinates\":{\"latitude\":\"-44.6881\",\"longitude\":\"7.6946\"},\"timezone\":{\"offset\":\"-8:00\",\"description\":\"Pacific Time (US & Canada)\"}},\"email\":\"brad.anderson@example.com\",\"login\":{\"uuid\":\"2f11457f-89ae-4fb9-8bcf-43c4f6ef748d\",\"username\":\"redelephant872\",\"password\":\"doughnut\",\"salt\":\"iDHXGFzY\",\"md5\":\"4c60f68b9ddd79d3f535fa182eb89a9e\",\"sha1\":\"28213857d3be98da2ab4d6eae9026f8502474d58\",\"sha256\":\"f3de491de48b25737c11bcc7576eac55500e44ed5bff0006daf845d7cfa9af24\"},\"dob\":{\"date\":\"1967-01-05T03:29:11Z\",\"age\":52},\"registered\":{\"date\":\"2003-04-29T15:33:56Z\",\"age\":16},\"phone\":\"011-250-8451\",\"cell\":\"081-159-6155\",\"id\":{\"name\":\"PPS\",\"value\":\"5716091T\"},\"picture\":{\"large\":\"https://randomuser.me/api/portraits/men/42.jpg\",\"medium\":\"https://randomuser.me/api/portraits/med/men/42.jpg\",\"thumbnail\":\"https://randomuser.me/api/portraits/thumb/men/42.jpg\"},\"nat\":\"IE\"},{\"gender\":\"male\",\"name\":{\"title\":\"mr\",\"first\":\"سپهر\",\"last\":\"حسینی\"},\"location\":{\"street\":\"3064 پارک دانشجو\",\"city\":\"سبزوار\",\"state\":\"اصفهان\",\"postcode\":49732,\"coordinates\":{\"latitude\":\"-8.6969\",\"longitude\":\"3.9398\"},\"timezone\":{\"offset\":\"-10:00\",\"description\":\"Hawaii\"}},\"email\":\"سپهر.حسینی@example.com\",\"login\":{\"uuid\":\"0209aa13-871c-4837-9b22-dad3027aeb0a\",\"username\":\"heavycat515\",\"password\":\"hootie\",\"salt\":\"04q7OODH\",\"md5\":\"9f62e7dc36895fb8a3adca726a1b7208\",\"sha1\":\"bcb21ac136311c69a6e0ccf34dd099f2bb36685b\",\"sha256\":\"b913dc483ced7ee4f69a3a16325608df6778d010923a8ff1c2565c305dc1cf08\"},\"dob\":{\"date\":\"1957-10-23T06:30:44Z\",\"age\":61},\"registered\":{\"date\":\"2015-04-07T04:50:02Z\",\"age\":4},\"phone\":\"005-90321104\",\"cell\":\"0969-149-0352\",\"id\":{\"name\":\"\",\"value\":null},\"picture\":{\"large\":\"https://randomuser.me/api/portraits/men/45.jpg\",\"medium\":\"https://randomuser.me/api/portraits/med/men/45.jpg\",\"thumbnail\":\"https://randomuser.me/api/portraits/thumb/men/45.jpg\"},\"nat\":\"IR\"},{\"gender\":\"male\",\"name\":{\"title\":\"mr\",\"first\":\"gaute\",\"last\":\"paasche\"},\"location\":{\"street\":\"myklegardgata 5075\",\"city\":\"skarnes\",\"state\":\"vestfold\",\"postcode\":\"9069\",\"coordinates\":{\"latitude\":\"-33.7296\",\"longitude\":\"120.9968\"},\"timezone\":{\"offset\":\"+5:45\",\"description\":\"Kathmandu\"}},\"email\":\"gaute.paasche@example.com\",\"login\":{\"uuid\":\"34e1876b-3d0b-4448-8d89-102081e5278c\",\"username\":\"whiteelephant942\",\"password\":\"montecar\",\"salt\":\"ZP6x6d1Z\",\"md5\":\"525ef2409b12e18a3ce7561b8201994d\",\"sha1\":\"bb9e88a6866ca96920eb475809458006b62866ef\",\"sha256\":\"4ccb1f5597a05f752f9c40a1f1e7cb618564aadf25613b4abb47bd8af2e5817a\"},\"dob\":{\"date\":\"1972-04-24T23:14:54Z\",\"age\":47},\"registered\":{\"date\":\"2002-12-13T17:13:24Z\",\"age\":16},\"phone\":\"30246602\",\"cell\":\"43878544\",\"id\":{\"name\":\"FN\",\"value\":\"24047209087\"},\"picture\":{\"large\":\"https://randomuser.me/api/portraits/men/24.jpg\",\"medium\":\"https://randomuser.me/api/portraits/med/men/24.jpg\",\"thumbnail\":\"https://randomuser.me/api/portraits/thumb/men/24.jpg\"},\"nat\":\"NO\"},{\"gender\":\"male\",\"name\":{\"title\":\"mr\",\"first\":\"edgar\",\"last\":\"davis\"},\"location\":{\"street\":\"6465 station road\",\"city\":\"ballina\",\"state\":\"kilkenny\",\"postcode\":12433,\"coordinates\":{\"latitude\":\"3.9348\",\"longitude\":\"0.4620\"},\"timezone\":{\"offset\":\"-3:30\",\"description\":\"Newfoundland\"}},\"email\":\"edgar.davis@example.com\",\"login\":{\"uuid\":\"6c4a4d61-6148-41d7-8219-f92998c3a0f2\",\"username\":\"lazypanda767\",\"password\":\"horney\",\"salt\":\"FsJ4cdou\",\"md5\":\"7bc009db989a0f05d781d9ab0f72856e\",\"sha1\":\"c7a8152ad111e1b3c6f888e3fa1c3575d457ca50\",\"sha256\":\"e9f2a8febc7d75b6dc8601279a36c71644eecfef2243a9bc133da2cdf52ae21f\"},\"dob\":{\"date\":\"1964-09-28T04:12:18Z\",\"age\":54},\"registered\":{\"date\":\"2017-07-16T06:32:19Z\",\"age\":1},\"phone\":\"031-207-4093\",\"cell\":\"081-451-5030\",\"id\":{\"name\":\"PPS\",\"value\":\"4064909T\"},\"picture\":{\"large\":\"https://randomuser.me/api/portraits/men/83.jpg\",\"medium\":\"https://randomuser.me/api/portraits/med/men/83.jpg\",\"thumbnail\":\"https://randomuser.me/api/portraits/thumb/men/83.jpg\"},\"nat\":\"IE\"},{\"gender\":\"male\",\"name\":{\"title\":\"mr\",\"first\":\"leo\",\"last\":\"salmi\"},\"location\":{\"street\":\"3355 satakennankatu\",\"city\":\"kivijärvi\",\"state\":\"central finland\",\"postcode\":68424,\"coordinates\":{\"latitude\":\"36.1963\",\"longitude\":\"-4.5437\"},\"timezone\":{\"offset\":\"+8:00\",\"description\":\"Beijing, Perth, Singapore, Hong Kong\"}},\"email\":\"leo.salmi@example.com\",\"login\":{\"uuid\":\"114e817f-e4fa-4a78-b727-3c708f064220\",\"username\":\"blackdog482\",\"password\":\"cobras\",\"salt\":\"mvvr2RHu\",\"md5\":\"1b2f1b862fed3ff7ea21c9f7cf9a7036\",\"sha1\":\"1bde29784b6c0b9e459c9ac36a2416127579c944\",\"sha256\":\"cc3cc9e51c545edf71340db6285912f797da447f05e00c081a8c0c26e4f0b1fd\"},\"dob\":{\"date\":\"1985-12-23T14:26:43Z\",\"age\":33},\"registered\":{\"date\":\"2016-10-04T10:07:00Z\",\"age\":2},\"phone\":\"05-304-111\",\"cell\":\"044-222-06-47\",\"id\":{\"name\":\"HETU\",\"value\":\"NaNNA027undefined\"},\"picture\":{\"large\":\"https://randomuser.me/api/portraits/men/74.jpg\",\"medium\":\"https://randomuser.me/api/portraits/med/men/74.jpg\",\"thumbnail\":\"https://randomuser.me/api/portraits/thumb/men/74.jpg\"},\"nat\":\"FI\"}],\"info\":{\"seed\":\"422d345b201de43a\",\"results\":10,\"page\":1,\"version\":\"1.2\"}}'"
      ]
     },
     "execution_count": 22,
     "metadata": {},
     "output_type": "execute_result"
    }
   ],
   "source": [
    "response.text"
   ]
  },
  {
   "cell_type": "markdown",
   "metadata": {},
   "source": [
    "* You can convert the data from JSON to a Python dictionary with the package JSON"
   ]
  },
  {
   "cell_type": "code",
   "execution_count": 23,
   "metadata": {},
   "outputs": [],
   "source": [
    "data = json.loads(response.text)"
   ]
  },
  {
   "cell_type": "markdown",
   "metadata": {},
   "source": [
    "* Check the type of variable data"
   ]
  },
  {
   "cell_type": "code",
   "execution_count": 24,
   "metadata": {},
   "outputs": [
    {
     "data": {
      "text/plain": [
       "dict"
      ]
     },
     "execution_count": 24,
     "metadata": {},
     "output_type": "execute_result"
    }
   ],
   "source": [
    "# TODO\n",
    "type(data)"
   ]
  },
  {
   "cell_type": "code",
   "execution_count": 25,
   "metadata": {},
   "outputs": [
    {
     "name": "stdout",
     "output_type": "stream",
     "text": [
      "{'results': [{'gender': 'male', 'name': {'title': 'mr', 'first': 'matthew', 'last': 'kowalski'}, 'location': {'street': '9344 cedar st', 'city': 'tecumseh', 'state': 'nova scotia', 'postcode': 'K8G 9D6', 'coordinates': {'latitude': '-68.4369', 'longitude': '48.7338'}, 'timezone': {'offset': '-12:00', 'description': 'Eniwetok, Kwajalein'}}, 'email': 'matthew.kowalski@example.com', 'login': {'uuid': '70e3e871-9fe4-4d3d-af1b-7cb7f70199a5', 'username': 'yellowbutterfly747', 'password': 'gunther', 'salt': 'fK05r1m2', 'md5': '5c60fe69276897bd43e09886e22bbeb7', 'sha1': '9745aaeebba0b4d1e1c15867512e70d171f925d3', 'sha256': '9247215f3c4d838ddbaf1a7c215f279e96b6d00aa3df96ee3bfb600fa2d60451'}, 'dob': {'date': '1970-10-05T09:09:03Z', 'age': 48}, 'registered': {'date': '2015-04-26T11:12:32Z', 'age': 4}, 'phone': '494-016-5639', 'cell': '023-718-5038', 'id': {'name': '', 'value': None}, 'picture': {'large': 'https://randomuser.me/api/portraits/men/73.jpg', 'medium': 'https://randomuser.me/api/portraits/med/men/73.jpg', 'thumbnail': 'https://randomuser.me/api/portraits/thumb/men/73.jpg'}, 'nat': 'CA'}, {'gender': 'male', 'name': {'title': 'mr', 'first': 'cooper', 'last': 'turner'}, 'location': {'street': '3313 new north road', 'city': 'hastings', 'state': 'nelson', 'postcode': 59412, 'coordinates': {'latitude': '88.5348', 'longitude': '-170.1413'}, 'timezone': {'offset': '+3:00', 'description': 'Baghdad, Riyadh, Moscow, St. Petersburg'}}, 'email': 'cooper.turner@example.com', 'login': {'uuid': '36b3d804-d6d3-4e2a-94c8-59578beb37bc', 'username': 'blackmeercat227', 'password': 'storms', 'salt': 'S5RmETW5', 'md5': '94dc014ad979310e0a2331dcf73df73b', 'sha1': 'c43006eab6b4d03b9241f13ebf567ca097f27b7c', 'sha256': 'bf21de49f93395aed75f12c99e7ea02ff29e2a10702c665034445aa225ee6690'}, 'dob': {'date': '1984-08-27T20:31:38Z', 'age': 34}, 'registered': {'date': '2003-04-01T18:15:49Z', 'age': 16}, 'phone': '(843)-910-3011', 'cell': '(917)-701-0764', 'id': {'name': '', 'value': None}, 'picture': {'large': 'https://randomuser.me/api/portraits/men/10.jpg', 'medium': 'https://randomuser.me/api/portraits/med/men/10.jpg', 'thumbnail': 'https://randomuser.me/api/portraits/thumb/men/10.jpg'}, 'nat': 'NZ'}, {'gender': 'male', 'name': {'title': 'mr', 'first': 'henk-jan', 'last': 'van maarseveen'}, 'location': {'street': '9910 moreelsepark', 'city': 'haaren', 'state': 'gelderland', 'postcode': 26156, 'coordinates': {'latitude': '72.9883', 'longitude': '130.3779'}, 'timezone': {'offset': '-11:00', 'description': 'Midway Island, Samoa'}}, 'email': 'henk-jan.vanmaarseveen@example.com', 'login': {'uuid': '292c11e7-6f10-4512-ae2c-c021cb7b5d0f', 'username': 'ticklishleopard875', 'password': 'county', 'salt': 'WBNyB3Pp', 'md5': 'b648a9e0ddf0922fd09815c1fb69ce43', 'sha1': '71153d63f8b440278815817d6e789d11407e16c1', 'sha256': '5b639d56842dec543dcefe579053676fa3a2e54516e2790376e3a2474a60185e'}, 'dob': {'date': '1959-05-15T01:47:28Z', 'age': 59}, 'registered': {'date': '2003-10-11T11:35:28Z', 'age': 15}, 'phone': '(955)-518-3810', 'cell': '(309)-975-1700', 'id': {'name': 'BSN', 'value': '73630757'}, 'picture': {'large': 'https://randomuser.me/api/portraits/men/69.jpg', 'medium': 'https://randomuser.me/api/portraits/med/men/69.jpg', 'thumbnail': 'https://randomuser.me/api/portraits/thumb/men/69.jpg'}, 'nat': 'NL'}, {'gender': 'male', 'name': {'title': 'monsieur', 'first': 'siegfried', 'last': 'laurent'}, 'location': {'street': '8925 rue de la baleine', 'city': 'basse-allaine', 'state': 'nidwalden', 'postcode': 1684, 'coordinates': {'latitude': '20.1750', 'longitude': '-64.2264'}, 'timezone': {'offset': '+9:30', 'description': 'Adelaide, Darwin'}}, 'email': 'siegfried.laurent@example.com', 'login': {'uuid': '52c7a67e-a44d-48d4-9be9-892d5d1050fe', 'username': 'blueelephant569', 'password': 'dookie', 'salt': 'spTEMAKh', 'md5': '3cd05a8ca34da842f67df5f1cc87072e', 'sha1': '14433063561862134f6121dc66782fc85ae4d4f7', 'sha256': 'b335249ec142eb25228ebcb0d77079ecdb7a1b735cf2890e01029c86334c8332'}, 'dob': {'date': '1952-06-05T11:54:34Z', 'age': 66}, 'registered': {'date': '2017-11-28T01:32:49Z', 'age': 1}, 'phone': '(234)-955-6996', 'cell': '(657)-792-2739', 'id': {'name': 'AVS', 'value': '756.3894.2584.50'}, 'picture': {'large': 'https://randomuser.me/api/portraits/men/12.jpg', 'medium': 'https://randomuser.me/api/portraits/med/men/12.jpg', 'thumbnail': 'https://randomuser.me/api/portraits/thumb/men/12.jpg'}, 'nat': 'CH'}, {'gender': 'male', 'name': {'title': 'mr', 'first': 'alexandre', 'last': 'lévesque'}, 'location': {'street': '6659 3rd st', 'city': 'deer lake', 'state': 'nunavut', 'postcode': 'H2N 0W5', 'coordinates': {'latitude': '38.2564', 'longitude': '8.1047'}, 'timezone': {'offset': '+4:30', 'description': 'Kabul'}}, 'email': 'alexandre.lévesque@example.com', 'login': {'uuid': '1b01c5b6-0c8b-43e7-ae90-8d44b7969142', 'username': 'ticklishmouse867', 'password': 'brutus', 'salt': 'eWHnELSl', 'md5': 'ffd02f102884e463774c67f4b1be6f0f', 'sha1': '4dc7f9e1cda6855aede4dda1ffc30d11ad165081', 'sha256': 'edd5c6302d682eb8c0bf3e6d56e9c276458e16096ec5c5190f6932ac4f38f167'}, 'dob': {'date': '1956-01-04T09:24:45Z', 'age': 63}, 'registered': {'date': '2002-04-28T07:37:50Z', 'age': 17}, 'phone': '469-706-3822', 'cell': '905-447-1807', 'id': {'name': '', 'value': None}, 'picture': {'large': 'https://randomuser.me/api/portraits/men/14.jpg', 'medium': 'https://randomuser.me/api/portraits/med/men/14.jpg', 'thumbnail': 'https://randomuser.me/api/portraits/thumb/men/14.jpg'}, 'nat': 'CA'}, {'gender': 'male', 'name': {'title': 'mr', 'first': 'brad', 'last': 'anderson'}, 'location': {'street': \"24 o'connell street\", 'city': 'ballina', 'state': 'westmeath', 'postcode': 38323, 'coordinates': {'latitude': '-44.6881', 'longitude': '7.6946'}, 'timezone': {'offset': '-8:00', 'description': 'Pacific Time (US & Canada)'}}, 'email': 'brad.anderson@example.com', 'login': {'uuid': '2f11457f-89ae-4fb9-8bcf-43c4f6ef748d', 'username': 'redelephant872', 'password': 'doughnut', 'salt': 'iDHXGFzY', 'md5': '4c60f68b9ddd79d3f535fa182eb89a9e', 'sha1': '28213857d3be98da2ab4d6eae9026f8502474d58', 'sha256': 'f3de491de48b25737c11bcc7576eac55500e44ed5bff0006daf845d7cfa9af24'}, 'dob': {'date': '1967-01-05T03:29:11Z', 'age': 52}, 'registered': {'date': '2003-04-29T15:33:56Z', 'age': 16}, 'phone': '011-250-8451', 'cell': '081-159-6155', 'id': {'name': 'PPS', 'value': '5716091T'}, 'picture': {'large': 'https://randomuser.me/api/portraits/men/42.jpg', 'medium': 'https://randomuser.me/api/portraits/med/men/42.jpg', 'thumbnail': 'https://randomuser.me/api/portraits/thumb/men/42.jpg'}, 'nat': 'IE'}, {'gender': 'male', 'name': {'title': 'mr', 'first': 'سپهر', 'last': 'حسینی'}, 'location': {'street': '3064 پارک دانشجو', 'city': 'سبزوار', 'state': 'اصفهان', 'postcode': 49732, 'coordinates': {'latitude': '-8.6969', 'longitude': '3.9398'}, 'timezone': {'offset': '-10:00', 'description': 'Hawaii'}}, 'email': 'سپهر.حسینی@example.com', 'login': {'uuid': '0209aa13-871c-4837-9b22-dad3027aeb0a', 'username': 'heavycat515', 'password': 'hootie', 'salt': '04q7OODH', 'md5': '9f62e7dc36895fb8a3adca726a1b7208', 'sha1': 'bcb21ac136311c69a6e0ccf34dd099f2bb36685b', 'sha256': 'b913dc483ced7ee4f69a3a16325608df6778d010923a8ff1c2565c305dc1cf08'}, 'dob': {'date': '1957-10-23T06:30:44Z', 'age': 61}, 'registered': {'date': '2015-04-07T04:50:02Z', 'age': 4}, 'phone': '005-90321104', 'cell': '0969-149-0352', 'id': {'name': '', 'value': None}, 'picture': {'large': 'https://randomuser.me/api/portraits/men/45.jpg', 'medium': 'https://randomuser.me/api/portraits/med/men/45.jpg', 'thumbnail': 'https://randomuser.me/api/portraits/thumb/men/45.jpg'}, 'nat': 'IR'}, {'gender': 'male', 'name': {'title': 'mr', 'first': 'gaute', 'last': 'paasche'}, 'location': {'street': 'myklegardgata 5075', 'city': 'skarnes', 'state': 'vestfold', 'postcode': '9069', 'coordinates': {'latitude': '-33.7296', 'longitude': '120.9968'}, 'timezone': {'offset': '+5:45', 'description': 'Kathmandu'}}, 'email': 'gaute.paasche@example.com', 'login': {'uuid': '34e1876b-3d0b-4448-8d89-102081e5278c', 'username': 'whiteelephant942', 'password': 'montecar', 'salt': 'ZP6x6d1Z', 'md5': '525ef2409b12e18a3ce7561b8201994d', 'sha1': 'bb9e88a6866ca96920eb475809458006b62866ef', 'sha256': '4ccb1f5597a05f752f9c40a1f1e7cb618564aadf25613b4abb47bd8af2e5817a'}, 'dob': {'date': '1972-04-24T23:14:54Z', 'age': 47}, 'registered': {'date': '2002-12-13T17:13:24Z', 'age': 16}, 'phone': '30246602', 'cell': '43878544', 'id': {'name': 'FN', 'value': '24047209087'}, 'picture': {'large': 'https://randomuser.me/api/portraits/men/24.jpg', 'medium': 'https://randomuser.me/api/portraits/med/men/24.jpg', 'thumbnail': 'https://randomuser.me/api/portraits/thumb/men/24.jpg'}, 'nat': 'NO'}, {'gender': 'male', 'name': {'title': 'mr', 'first': 'edgar', 'last': 'davis'}, 'location': {'street': '6465 station road', 'city': 'ballina', 'state': 'kilkenny', 'postcode': 12433, 'coordinates': {'latitude': '3.9348', 'longitude': '0.4620'}, 'timezone': {'offset': '-3:30', 'description': 'Newfoundland'}}, 'email': 'edgar.davis@example.com', 'login': {'uuid': '6c4a4d61-6148-41d7-8219-f92998c3a0f2', 'username': 'lazypanda767', 'password': 'horney', 'salt': 'FsJ4cdou', 'md5': '7bc009db989a0f05d781d9ab0f72856e', 'sha1': 'c7a8152ad111e1b3c6f888e3fa1c3575d457ca50', 'sha256': 'e9f2a8febc7d75b6dc8601279a36c71644eecfef2243a9bc133da2cdf52ae21f'}, 'dob': {'date': '1964-09-28T04:12:18Z', 'age': 54}, 'registered': {'date': '2017-07-16T06:32:19Z', 'age': 1}, 'phone': '031-207-4093', 'cell': '081-451-5030', 'id': {'name': 'PPS', 'value': '4064909T'}, 'picture': {'large': 'https://randomuser.me/api/portraits/men/83.jpg', 'medium': 'https://randomuser.me/api/portraits/med/men/83.jpg', 'thumbnail': 'https://randomuser.me/api/portraits/thumb/men/83.jpg'}, 'nat': 'IE'}, {'gender': 'male', 'name': {'title': 'mr', 'first': 'leo', 'last': 'salmi'}, 'location': {'street': '3355 satakennankatu', 'city': 'kivijärvi', 'state': 'central finland', 'postcode': 68424, 'coordinates': {'latitude': '36.1963', 'longitude': '-4.5437'}, 'timezone': {'offset': '+8:00', 'description': 'Beijing, Perth, Singapore, Hong Kong'}}, 'email': 'leo.salmi@example.com', 'login': {'uuid': '114e817f-e4fa-4a78-b727-3c708f064220', 'username': 'blackdog482', 'password': 'cobras', 'salt': 'mvvr2RHu', 'md5': '1b2f1b862fed3ff7ea21c9f7cf9a7036', 'sha1': '1bde29784b6c0b9e459c9ac36a2416127579c944', 'sha256': 'cc3cc9e51c545edf71340db6285912f797da447f05e00c081a8c0c26e4f0b1fd'}, 'dob': {'date': '1985-12-23T14:26:43Z', 'age': 33}, 'registered': {'date': '2016-10-04T10:07:00Z', 'age': 2}, 'phone': '05-304-111', 'cell': '044-222-06-47', 'id': {'name': 'HETU', 'value': 'NaNNA027undefined'}, 'picture': {'large': 'https://randomuser.me/api/portraits/men/74.jpg', 'medium': 'https://randomuser.me/api/portraits/med/men/74.jpg', 'thumbnail': 'https://randomuser.me/api/portraits/thumb/men/74.jpg'}, 'nat': 'FI'}], 'info': {'seed': '422d345b201de43a', 'results': 10, 'page': 1, 'version': '1.2'}}\n"
     ]
    }
   ],
   "source": [
    "print(data)"
   ]
  },
  {
   "cell_type": "markdown",
   "metadata": {},
   "source": [
    "* *pretty-print* (pprint) prints complex data structures like dictionary prettier.  https://docs.python.org/3/library/pprint.html "
   ]
  },
  {
   "cell_type": "code",
   "execution_count": 26,
   "metadata": {},
   "outputs": [
    {
     "name": "stdout",
     "output_type": "stream",
     "text": [
      "{'info': {'page': 1,\n",
      "          'results': 10,\n",
      "          'seed': '422d345b201de43a',\n",
      "          'version': '1.2'},\n",
      " 'results': [{'cell': '023-718-5038',\n",
      "              'dob': {'age': 48, 'date': '1970-10-05T09:09:03Z'},\n",
      "              'email': 'matthew.kowalski@example.com',\n",
      "              'gender': 'male',\n",
      "              'id': {'name': '', 'value': None},\n",
      "              'location': {'city': 'tecumseh',\n",
      "                           'coordinates': {'latitude': '-68.4369',\n",
      "                                           'longitude': '48.7338'},\n",
      "                           'postcode': 'K8G 9D6',\n",
      "                           'state': 'nova scotia',\n",
      "                           'street': '9344 cedar st',\n",
      "                           'timezone': {'description': 'Eniwetok, Kwajalein',\n",
      "                                        'offset': '-12:00'}},\n",
      "              'login': {'md5': '5c60fe69276897bd43e09886e22bbeb7',\n",
      "                        'password': 'gunther',\n",
      "                        'salt': 'fK05r1m2',\n",
      "                        'sha1': '9745aaeebba0b4d1e1c15867512e70d171f925d3',\n",
      "                        'sha256': '9247215f3c4d838ddbaf1a7c215f279e96b6d00aa3df96ee3bfb600fa2d60451',\n",
      "                        'username': 'yellowbutterfly747',\n",
      "                        'uuid': '70e3e871-9fe4-4d3d-af1b-7cb7f70199a5'},\n",
      "              'name': {'first': 'matthew', 'last': 'kowalski', 'title': 'mr'},\n",
      "              'nat': 'CA',\n",
      "              'phone': '494-016-5639',\n",
      "              'picture': {'large': 'https://randomuser.me/api/portraits/men/73.jpg',\n",
      "                          'medium': 'https://randomuser.me/api/portraits/med/men/73.jpg',\n",
      "                          'thumbnail': 'https://randomuser.me/api/portraits/thumb/men/73.jpg'},\n",
      "              'registered': {'age': 4, 'date': '2015-04-26T11:12:32Z'}},\n",
      "             {'cell': '(917)-701-0764',\n",
      "              'dob': {'age': 34, 'date': '1984-08-27T20:31:38Z'},\n",
      "              'email': 'cooper.turner@example.com',\n",
      "              'gender': 'male',\n",
      "              'id': {'name': '', 'value': None},\n",
      "              'location': {'city': 'hastings',\n",
      "                           'coordinates': {'latitude': '88.5348',\n",
      "                                           'longitude': '-170.1413'},\n",
      "                           'postcode': 59412,\n",
      "                           'state': 'nelson',\n",
      "                           'street': '3313 new north road',\n",
      "                           'timezone': {'description': 'Baghdad, Riyadh, '\n",
      "                                                       'Moscow, St. Petersburg',\n",
      "                                        'offset': '+3:00'}},\n",
      "              'login': {'md5': '94dc014ad979310e0a2331dcf73df73b',\n",
      "                        'password': 'storms',\n",
      "                        'salt': 'S5RmETW5',\n",
      "                        'sha1': 'c43006eab6b4d03b9241f13ebf567ca097f27b7c',\n",
      "                        'sha256': 'bf21de49f93395aed75f12c99e7ea02ff29e2a10702c665034445aa225ee6690',\n",
      "                        'username': 'blackmeercat227',\n",
      "                        'uuid': '36b3d804-d6d3-4e2a-94c8-59578beb37bc'},\n",
      "              'name': {'first': 'cooper', 'last': 'turner', 'title': 'mr'},\n",
      "              'nat': 'NZ',\n",
      "              'phone': '(843)-910-3011',\n",
      "              'picture': {'large': 'https://randomuser.me/api/portraits/men/10.jpg',\n",
      "                          'medium': 'https://randomuser.me/api/portraits/med/men/10.jpg',\n",
      "                          'thumbnail': 'https://randomuser.me/api/portraits/thumb/men/10.jpg'},\n",
      "              'registered': {'age': 16, 'date': '2003-04-01T18:15:49Z'}},\n",
      "             {'cell': '(309)-975-1700',\n",
      "              'dob': {'age': 59, 'date': '1959-05-15T01:47:28Z'},\n",
      "              'email': 'henk-jan.vanmaarseveen@example.com',\n",
      "              'gender': 'male',\n",
      "              'id': {'name': 'BSN', 'value': '73630757'},\n",
      "              'location': {'city': 'haaren',\n",
      "                           'coordinates': {'latitude': '72.9883',\n",
      "                                           'longitude': '130.3779'},\n",
      "                           'postcode': 26156,\n",
      "                           'state': 'gelderland',\n",
      "                           'street': '9910 moreelsepark',\n",
      "                           'timezone': {'description': 'Midway Island, Samoa',\n",
      "                                        'offset': '-11:00'}},\n",
      "              'login': {'md5': 'b648a9e0ddf0922fd09815c1fb69ce43',\n",
      "                        'password': 'county',\n",
      "                        'salt': 'WBNyB3Pp',\n",
      "                        'sha1': '71153d63f8b440278815817d6e789d11407e16c1',\n",
      "                        'sha256': '5b639d56842dec543dcefe579053676fa3a2e54516e2790376e3a2474a60185e',\n",
      "                        'username': 'ticklishleopard875',\n",
      "                        'uuid': '292c11e7-6f10-4512-ae2c-c021cb7b5d0f'},\n",
      "              'name': {'first': 'henk-jan',\n",
      "                       'last': 'van maarseveen',\n",
      "                       'title': 'mr'},\n",
      "              'nat': 'NL',\n",
      "              'phone': '(955)-518-3810',\n",
      "              'picture': {'large': 'https://randomuser.me/api/portraits/men/69.jpg',\n",
      "                          'medium': 'https://randomuser.me/api/portraits/med/men/69.jpg',\n",
      "                          'thumbnail': 'https://randomuser.me/api/portraits/thumb/men/69.jpg'},\n",
      "              'registered': {'age': 15, 'date': '2003-10-11T11:35:28Z'}},\n",
      "             {'cell': '(657)-792-2739',\n",
      "              'dob': {'age': 66, 'date': '1952-06-05T11:54:34Z'},\n",
      "              'email': 'siegfried.laurent@example.com',\n",
      "              'gender': 'male',\n",
      "              'id': {'name': 'AVS', 'value': '756.3894.2584.50'},\n",
      "              'location': {'city': 'basse-allaine',\n",
      "                           'coordinates': {'latitude': '20.1750',\n",
      "                                           'longitude': '-64.2264'},\n",
      "                           'postcode': 1684,\n",
      "                           'state': 'nidwalden',\n",
      "                           'street': '8925 rue de la baleine',\n",
      "                           'timezone': {'description': 'Adelaide, Darwin',\n",
      "                                        'offset': '+9:30'}},\n",
      "              'login': {'md5': '3cd05a8ca34da842f67df5f1cc87072e',\n",
      "                        'password': 'dookie',\n",
      "                        'salt': 'spTEMAKh',\n",
      "                        'sha1': '14433063561862134f6121dc66782fc85ae4d4f7',\n",
      "                        'sha256': 'b335249ec142eb25228ebcb0d77079ecdb7a1b735cf2890e01029c86334c8332',\n",
      "                        'username': 'blueelephant569',\n",
      "                        'uuid': '52c7a67e-a44d-48d4-9be9-892d5d1050fe'},\n",
      "              'name': {'first': 'siegfried',\n",
      "                       'last': 'laurent',\n",
      "                       'title': 'monsieur'},\n",
      "              'nat': 'CH',\n",
      "              'phone': '(234)-955-6996',\n",
      "              'picture': {'large': 'https://randomuser.me/api/portraits/men/12.jpg',\n",
      "                          'medium': 'https://randomuser.me/api/portraits/med/men/12.jpg',\n",
      "                          'thumbnail': 'https://randomuser.me/api/portraits/thumb/men/12.jpg'},\n",
      "              'registered': {'age': 1, 'date': '2017-11-28T01:32:49Z'}},\n",
      "             {'cell': '905-447-1807',\n",
      "              'dob': {'age': 63, 'date': '1956-01-04T09:24:45Z'},\n",
      "              'email': 'alexandre.lévesque@example.com',\n",
      "              'gender': 'male',\n",
      "              'id': {'name': '', 'value': None},\n",
      "              'location': {'city': 'deer lake',\n",
      "                           'coordinates': {'latitude': '38.2564',\n",
      "                                           'longitude': '8.1047'},\n",
      "                           'postcode': 'H2N 0W5',\n",
      "                           'state': 'nunavut',\n",
      "                           'street': '6659 3rd st',\n",
      "                           'timezone': {'description': 'Kabul',\n",
      "                                        'offset': '+4:30'}},\n",
      "              'login': {'md5': 'ffd02f102884e463774c67f4b1be6f0f',\n",
      "                        'password': 'brutus',\n",
      "                        'salt': 'eWHnELSl',\n",
      "                        'sha1': '4dc7f9e1cda6855aede4dda1ffc30d11ad165081',\n",
      "                        'sha256': 'edd5c6302d682eb8c0bf3e6d56e9c276458e16096ec5c5190f6932ac4f38f167',\n",
      "                        'username': 'ticklishmouse867',\n",
      "                        'uuid': '1b01c5b6-0c8b-43e7-ae90-8d44b7969142'},\n",
      "              'name': {'first': 'alexandre', 'last': 'lévesque', 'title': 'mr'},\n",
      "              'nat': 'CA',\n",
      "              'phone': '469-706-3822',\n",
      "              'picture': {'large': 'https://randomuser.me/api/portraits/men/14.jpg',\n",
      "                          'medium': 'https://randomuser.me/api/portraits/med/men/14.jpg',\n",
      "                          'thumbnail': 'https://randomuser.me/api/portraits/thumb/men/14.jpg'},\n",
      "              'registered': {'age': 17, 'date': '2002-04-28T07:37:50Z'}},\n",
      "             {'cell': '081-159-6155',\n",
      "              'dob': {'age': 52, 'date': '1967-01-05T03:29:11Z'},\n",
      "              'email': 'brad.anderson@example.com',\n",
      "              'gender': 'male',\n",
      "              'id': {'name': 'PPS', 'value': '5716091T'},\n",
      "              'location': {'city': 'ballina',\n",
      "                           'coordinates': {'latitude': '-44.6881',\n",
      "                                           'longitude': '7.6946'},\n",
      "                           'postcode': 38323,\n",
      "                           'state': 'westmeath',\n",
      "                           'street': \"24 o'connell street\",\n",
      "                           'timezone': {'description': 'Pacific Time (US & '\n",
      "                                                       'Canada)',\n",
      "                                        'offset': '-8:00'}},\n",
      "              'login': {'md5': '4c60f68b9ddd79d3f535fa182eb89a9e',\n",
      "                        'password': 'doughnut',\n",
      "                        'salt': 'iDHXGFzY',\n",
      "                        'sha1': '28213857d3be98da2ab4d6eae9026f8502474d58',\n",
      "                        'sha256': 'f3de491de48b25737c11bcc7576eac55500e44ed5bff0006daf845d7cfa9af24',\n",
      "                        'username': 'redelephant872',\n",
      "                        'uuid': '2f11457f-89ae-4fb9-8bcf-43c4f6ef748d'},\n",
      "              'name': {'first': 'brad', 'last': 'anderson', 'title': 'mr'},\n",
      "              'nat': 'IE',\n",
      "              'phone': '011-250-8451',\n",
      "              'picture': {'large': 'https://randomuser.me/api/portraits/men/42.jpg',\n",
      "                          'medium': 'https://randomuser.me/api/portraits/med/men/42.jpg',\n",
      "                          'thumbnail': 'https://randomuser.me/api/portraits/thumb/men/42.jpg'},\n",
      "              'registered': {'age': 16, 'date': '2003-04-29T15:33:56Z'}},\n",
      "             {'cell': '0969-149-0352',\n",
      "              'dob': {'age': 61, 'date': '1957-10-23T06:30:44Z'},\n",
      "              'email': 'سپهر.حسینی@example.com',\n",
      "              'gender': 'male',\n",
      "              'id': {'name': '', 'value': None},\n",
      "              'location': {'city': 'سبزوار',\n",
      "                           'coordinates': {'latitude': '-8.6969',\n",
      "                                           'longitude': '3.9398'},\n",
      "                           'postcode': 49732,\n",
      "                           'state': 'اصفهان',\n",
      "                           'street': '3064 پارک دانشجو',\n",
      "                           'timezone': {'description': 'Hawaii',\n",
      "                                        'offset': '-10:00'}},\n",
      "              'login': {'md5': '9f62e7dc36895fb8a3adca726a1b7208',\n",
      "                        'password': 'hootie',\n",
      "                        'salt': '04q7OODH',\n",
      "                        'sha1': 'bcb21ac136311c69a6e0ccf34dd099f2bb36685b',\n",
      "                        'sha256': 'b913dc483ced7ee4f69a3a16325608df6778d010923a8ff1c2565c305dc1cf08',\n",
      "                        'username': 'heavycat515',\n",
      "                        'uuid': '0209aa13-871c-4837-9b22-dad3027aeb0a'},\n",
      "              'name': {'first': 'سپهر', 'last': 'حسینی', 'title': 'mr'},\n",
      "              'nat': 'IR',\n",
      "              'phone': '005-90321104',\n",
      "              'picture': {'large': 'https://randomuser.me/api/portraits/men/45.jpg',\n",
      "                          'medium': 'https://randomuser.me/api/portraits/med/men/45.jpg',\n",
      "                          'thumbnail': 'https://randomuser.me/api/portraits/thumb/men/45.jpg'},\n",
      "              'registered': {'age': 4, 'date': '2015-04-07T04:50:02Z'}},\n",
      "             {'cell': '43878544',\n",
      "              'dob': {'age': 47, 'date': '1972-04-24T23:14:54Z'},\n",
      "              'email': 'gaute.paasche@example.com',\n",
      "              'gender': 'male',\n",
      "              'id': {'name': 'FN', 'value': '24047209087'},\n",
      "              'location': {'city': 'skarnes',\n",
      "                           'coordinates': {'latitude': '-33.7296',\n",
      "                                           'longitude': '120.9968'},\n",
      "                           'postcode': '9069',\n",
      "                           'state': 'vestfold',\n",
      "                           'street': 'myklegardgata 5075',\n",
      "                           'timezone': {'description': 'Kathmandu',\n",
      "                                        'offset': '+5:45'}},\n",
      "              'login': {'md5': '525ef2409b12e18a3ce7561b8201994d',\n",
      "                        'password': 'montecar',\n",
      "                        'salt': 'ZP6x6d1Z',\n",
      "                        'sha1': 'bb9e88a6866ca96920eb475809458006b62866ef',\n",
      "                        'sha256': '4ccb1f5597a05f752f9c40a1f1e7cb618564aadf25613b4abb47bd8af2e5817a',\n",
      "                        'username': 'whiteelephant942',\n",
      "                        'uuid': '34e1876b-3d0b-4448-8d89-102081e5278c'},\n",
      "              'name': {'first': 'gaute', 'last': 'paasche', 'title': 'mr'},\n",
      "              'nat': 'NO',\n",
      "              'phone': '30246602',\n",
      "              'picture': {'large': 'https://randomuser.me/api/portraits/men/24.jpg',\n",
      "                          'medium': 'https://randomuser.me/api/portraits/med/men/24.jpg',\n",
      "                          'thumbnail': 'https://randomuser.me/api/portraits/thumb/men/24.jpg'},\n",
      "              'registered': {'age': 16, 'date': '2002-12-13T17:13:24Z'}},\n",
      "             {'cell': '081-451-5030',\n",
      "              'dob': {'age': 54, 'date': '1964-09-28T04:12:18Z'},\n",
      "              'email': 'edgar.davis@example.com',\n",
      "              'gender': 'male',\n",
      "              'id': {'name': 'PPS', 'value': '4064909T'},\n",
      "              'location': {'city': 'ballina',\n",
      "                           'coordinates': {'latitude': '3.9348',\n",
      "                                           'longitude': '0.4620'},\n",
      "                           'postcode': 12433,\n",
      "                           'state': 'kilkenny',\n",
      "                           'street': '6465 station road',\n",
      "                           'timezone': {'description': 'Newfoundland',\n",
      "                                        'offset': '-3:30'}},\n",
      "              'login': {'md5': '7bc009db989a0f05d781d9ab0f72856e',\n",
      "                        'password': 'horney',\n",
      "                        'salt': 'FsJ4cdou',\n",
      "                        'sha1': 'c7a8152ad111e1b3c6f888e3fa1c3575d457ca50',\n",
      "                        'sha256': 'e9f2a8febc7d75b6dc8601279a36c71644eecfef2243a9bc133da2cdf52ae21f',\n",
      "                        'username': 'lazypanda767',\n",
      "                        'uuid': '6c4a4d61-6148-41d7-8219-f92998c3a0f2'},\n",
      "              'name': {'first': 'edgar', 'last': 'davis', 'title': 'mr'},\n",
      "              'nat': 'IE',\n",
      "              'phone': '031-207-4093',\n",
      "              'picture': {'large': 'https://randomuser.me/api/portraits/men/83.jpg',\n",
      "                          'medium': 'https://randomuser.me/api/portraits/med/men/83.jpg',\n",
      "                          'thumbnail': 'https://randomuser.me/api/portraits/thumb/men/83.jpg'},\n",
      "              'registered': {'age': 1, 'date': '2017-07-16T06:32:19Z'}},\n",
      "             {'cell': '044-222-06-47',\n",
      "              'dob': {'age': 33, 'date': '1985-12-23T14:26:43Z'},\n",
      "              'email': 'leo.salmi@example.com',\n",
      "              'gender': 'male',\n",
      "              'id': {'name': 'HETU', 'value': 'NaNNA027undefined'},\n",
      "              'location': {'city': 'kivijärvi',\n",
      "                           'coordinates': {'latitude': '36.1963',\n",
      "                                           'longitude': '-4.5437'},\n",
      "                           'postcode': 68424,\n",
      "                           'state': 'central finland',\n",
      "                           'street': '3355 satakennankatu',\n",
      "                           'timezone': {'description': 'Beijing, Perth, '\n",
      "                                                       'Singapore, Hong Kong',\n",
      "                                        'offset': '+8:00'}},\n",
      "              'login': {'md5': '1b2f1b862fed3ff7ea21c9f7cf9a7036',\n",
      "                        'password': 'cobras',\n",
      "                        'salt': 'mvvr2RHu',\n",
      "                        'sha1': '1bde29784b6c0b9e459c9ac36a2416127579c944',\n",
      "                        'sha256': 'cc3cc9e51c545edf71340db6285912f797da447f05e00c081a8c0c26e4f0b1fd',\n",
      "                        'username': 'blackdog482',\n",
      "                        'uuid': '114e817f-e4fa-4a78-b727-3c708f064220'},\n",
      "              'name': {'first': 'leo', 'last': 'salmi', 'title': 'mr'},\n",
      "              'nat': 'FI',\n",
      "              'phone': '05-304-111',\n",
      "              'picture': {'large': 'https://randomuser.me/api/portraits/men/74.jpg',\n",
      "                          'medium': 'https://randomuser.me/api/portraits/med/men/74.jpg',\n",
      "                          'thumbnail': 'https://randomuser.me/api/portraits/thumb/men/74.jpg'},\n",
      "              'registered': {'age': 2, 'date': '2016-10-04T10:07:00Z'}}]}\n"
     ]
    }
   ],
   "source": [
    "from pprint import pprint\n",
    "pprint(data)"
   ]
  },
  {
   "cell_type": "markdown",
   "metadata": {},
   "source": [
    "* Loop through the dictionary and print all first names"
   ]
  },
  {
   "cell_type": "code",
   "execution_count": 71,
   "metadata": {},
   "outputs": [
    {
     "ename": "TypeError",
     "evalue": "string indices must be integers",
     "output_type": "error",
     "traceback": [
      "\u001b[1;31m---------------------------------------------------------------------------\u001b[0m",
      "\u001b[1;31mTypeError\u001b[0m                                 Traceback (most recent call last)",
      "\u001b[1;32m<ipython-input-71-14c955093f0a>\u001b[0m in \u001b[0;36m<module>\u001b[1;34m()\u001b[0m\n\u001b[0;32m      2\u001b[0m \u001b[1;32mfor\u001b[0m \u001b[0mp\u001b[0m \u001b[1;32min\u001b[0m \u001b[0mdata\u001b[0m\u001b[1;33m[\u001b[0m\u001b[1;34m'results'\u001b[0m\u001b[1;33m]\u001b[0m\u001b[1;33m:\u001b[0m\u001b[1;33m\u001b[0m\u001b[0m\n\u001b[0;32m      3\u001b[0m     \u001b[1;32mfor\u001b[0m \u001b[0mk\u001b[0m \u001b[1;32min\u001b[0m \u001b[0mp\u001b[0m\u001b[1;33m[\u001b[0m\u001b[1;34m'name'\u001b[0m\u001b[1;33m]\u001b[0m\u001b[1;33m:\u001b[0m\u001b[1;33m\u001b[0m\u001b[0m\n\u001b[1;32m----> 4\u001b[1;33m         \u001b[0mprint\u001b[0m\u001b[1;33m(\u001b[0m\u001b[0mk\u001b[0m\u001b[1;33m[\u001b[0m\u001b[1;34m'first'\u001b[0m\u001b[1;33m]\u001b[0m\u001b[1;33m)\u001b[0m\u001b[1;33m\u001b[0m\u001b[0m\n\u001b[0m",
      "\u001b[1;31mTypeError\u001b[0m: string indices must be integers"
     ]
    }
   ],
   "source": [
    "# TODO\n",
    "for p in data['results']:\n",
    "    for k in p['name']:\n",
    "        print(k['first'])"
   ]
  },
  {
   "cell_type": "markdown",
   "metadata": {},
   "source": [
    "* Get all astronauts who are right now in space. You get the information about the Web APU from here  http://open-notify.org/Open-Notify-API/People-In-Space/ "
   ]
  },
  {
   "cell_type": "code",
   "execution_count": 62,
   "metadata": {},
   "outputs": [
    {
     "name": "stdout",
     "output_type": "stream",
     "text": [
      "6\n"
     ]
    }
   ],
   "source": [
    "# TODO\n",
    "astr_response = requests.get(\"http://api.open-notify.org/astros.json\")\n",
    "astr_data = json.loads(astr_response.text)\n",
    "print(astr_data['number'])"
   ]
  },
  {
   "cell_type": "markdown",
   "metadata": {},
   "source": [
    "* Print the number of people that are right now in space"
   ]
  },
  {
   "cell_type": "code",
   "execution_count": 72,
   "metadata": {},
   "outputs": [
    {
     "name": "stdout",
     "output_type": "stream",
     "text": [
      "Oleg Kononenko\n",
      "David Saint-Jacques\n",
      "Anne McClain\n",
      "Alexey Ovchinin\n",
      "Nick Hague\n",
      "Christina Koch\n"
     ]
    }
   ],
   "source": [
    "# TODO\n",
    "for p in astr_data['people']:\n",
    "    print(p['name'])"
   ]
  },
  {
   "cell_type": "markdown",
   "metadata": {},
   "source": [
    "* Print the names of all astronauts "
   ]
  },
  {
   "cell_type": "code",
   "execution_count": null,
   "metadata": {
    "collapsed": true
   },
   "outputs": [],
   "source": [
    "# TODO"
   ]
  },
  {
   "cell_type": "markdown",
   "metadata": {},
   "source": [
    "* A lot of Web APIs require a api-key for interacting with them (like Twitter, Facebook, …). You find at http://www.python-requests.org/en/latest/user/authentication/ more information for Authentication for Web APIs with the request package\n",
    "* There are also special Python packages for interacting with services. E.g. for Twitter: http://www.tweepy.org/ or  https://github.com/bear/python-twitter \n",
    "\n",
    "See e.g. http://socialmedia-class.org/twittertutorial.html for a tutorial"
   ]
  },
  {
   "cell_type": "markdown",
   "metadata": {},
   "source": [
    "## 2. Creating a Web API\n",
    "\n",
    "* Create a folder `webapi` and change into it.\n",
    "* Create in the `webapi` folder a file with the name `Dockerfile` with the following content:\n",
    "\n",
    "----\n",
    "```bash\n",
    "# Use an official Python runtime as a parent image\n",
    "FROM python:3.7-slim\n",
    "\n",
    "# Set the working directory to /app\n",
    "WORKDIR /app\n",
    "\n",
    "# Copy the current directory contents into the container at /app\n",
    "COPY app/ /app\n",
    "\n",
    "# Install any needed packages specified in requirements.txt\n",
    "RUN pip install --trusted-host pypi.python.org -r requirements.txt\n",
    "\n",
    "# Make port 80 available to the world outside this container\n",
    "EXPOSE 80\n",
    "\n",
    "# Run app.py when the container launches\n",
    "CMD [\"python\", \"app.py\"]\n",
    "```\n",
    "\n",
    "-----\n",
    "\n",
    "* We can also use Docker compose with just one service. Create in your `webapi` folder a `docker-compose.yml` file:\n",
    "\n",
    "-----\n",
    "\n",
    "```yaml\n",
    "version: '3'\n",
    "services:\n",
    "  api:\n",
    "    build: .\n",
    "    ports:\n",
    "      - \"5000:80\"\n",
    "    restart: always\n",
    "    volumes:\n",
    "      - ./app:/app\n",
    "```\n",
    "-----\n",
    "\n",
    "* Create a folder in the `webapi` folder a new folder with the name `app`\n",
    "* We will build a web API with `Flask` (http://flask.pocoo.org/) . Create a `requirements.txt` file in the `app` folder. Here we can specify all python `pip` packages that we need:\n",
    "\n",
    "-----\n",
    "```bash\n",
    "Flask\n",
    "```\n",
    "-----\n",
    "\n",
    "* Create the `app.py` file in the `app` folder:\n",
    "\n",
    "-----\n",
    "```python\n",
    "from flask import Flask\n",
    "from flask import request, jsonify\n",
    "\n",
    "app = Flask(__name__)\n",
    "\n",
    "courses = [\n",
    "    {'id': 0,\n",
    "     'title': 'Data Science',\n",
    "     'professor': 'Markus Löcher',\n",
    "     'semester': '1'},\n",
    "    {'id': 1,\n",
    "     'title': 'Data Warehousing',\n",
    "     'professor': 'Roland M. Mueller',\n",
    "     'semester': '1'},\n",
    "    {'id': 2,\n",
    "     'title': 'Business Process Management',\n",
    "     'professor': 'Frank Habermann',\n",
    "     'semester': '1'},\n",
    "    {'id': 3,\n",
    "     'title': 'Stratigic Issues of IT',\n",
    "     'professor': 'Sven Pohland',\n",
    "     'semester': '1'},\n",
    "    {'id': 4,\n",
    "     'title': 'Text, Web and Social Media Analytics Lab',\n",
    "     'professor': 'Markus Löcher',\n",
    "     'semester': '2'},\n",
    "    {'id': 5,\n",
    "     'title': 'Enterprise Architectures for Big Data',\n",
    "     'professor': 'Roland M. Mueller',\n",
    "     'semester': '2'},\n",
    "    {'id': 6,\n",
    "     'title': 'Business Process Integration Lab',\n",
    "     'professor': 'Frank Habermann',\n",
    "     'semester': '2'},\n",
    "    {'id': 7,\n",
    "     'title': 'IT-Security and Privacy',\n",
    "     'professor': 'Dennis Uckel',\n",
    "     'semester': '2'},\n",
    "    {'id': 8,\n",
    "     'title': 'Research Methods',\n",
    "     'professor': 'Marcus Birkenkrahe',\n",
    "     'semester': '2'},\n",
    "]\n",
    "\n",
    "@app.route('/api/v1/courses/all', methods=['GET'])\n",
    "def api_all():\n",
    "    return jsonify(courses)\n",
    "\n",
    "@app.route('/api/v1/courses', methods=['GET'])\n",
    "def api_id():\n",
    "    # Check if an ID was provided as part of the URL.\n",
    "    # If ID is provided, assign it to a variable.\n",
    "    # If no ID is provided, display an error in the browser.\n",
    "    if 'id' in request.args:\n",
    "        id = int(request.args['id'])\n",
    "    else:\n",
    "        return \"Error: No id field provided. Please specify an id.\"\n",
    "\n",
    "    # Create an empty list for our results\n",
    "    results = []\n",
    "\n",
    "    # Loop through the data and match results that fit the requested ID.\n",
    "    # IDs are unique, but other fields might return many results\n",
    "    for course in courses:\n",
    "        if course['id'] == id:\n",
    "            results.append(course)\n",
    "\n",
    "    # Use the jsonify function from Flask to convert our list of\n",
    "    # Python dictionaries to the JSON format.\n",
    "    return jsonify(results)\n",
    "\n",
    "if __name__ == \"__main__\":\n",
    "    app.run(host=\"0.0.0.0\", port=80, debug=True)\n",
    "```\n",
    "-----\n",
    "* Open http://localhost:5000/api/v1/courses/all in a browser\n",
    "* Open http://localhost:5000/api/v1/courses?id=5 in a browser\n"
   ]
  },
  {
   "cell_type": "markdown",
   "metadata": {
    "collapsed": true
   },
   "source": [
    "* Use your own API here in the Jupyter Notebook with Python and print all names of all courses "
   ]
  },
  {
   "cell_type": "code",
   "execution_count": null,
   "metadata": {
    "collapsed": true
   },
   "outputs": [],
   "source": [
    "# TODO"
   ]
  },
  {
   "cell_type": "markdown",
   "metadata": {},
   "source": [
    "* Add the possibility to find courses based on the semester\n",
    "* Use your API in Python and print all names of all courses in the second semester"
   ]
  },
  {
   "cell_type": "code",
   "execution_count": null,
   "metadata": {
    "collapsed": true
   },
   "outputs": [],
   "source": [
    "# TODO"
   ]
  },
  {
   "cell_type": "markdown",
   "metadata": {},
   "source": [
    "* Add a function that can convert Fahrenheit to Celsius \n",
    "* Call your API and get the Celsius value for 100°F Fahrenheit"
   ]
  },
  {
   "cell_type": "code",
   "execution_count": null,
   "metadata": {
    "collapsed": true
   },
   "outputs": [],
   "source": [
    "# TODO"
   ]
  }
 ],
 "metadata": {
  "kernelspec": {
   "display_name": "Python 3",
   "language": "python",
   "name": "python3"
  },
  "language_info": {
   "codemirror_mode": {
    "name": "ipython",
    "version": 3
   },
   "file_extension": ".py",
   "mimetype": "text/x-python",
   "name": "python",
   "nbconvert_exporter": "python",
   "pygments_lexer": "ipython3",
   "version": "3.7.0"
  },
  "varInspector": {
   "cols": {
    "lenName": 16,
    "lenType": 16,
    "lenVar": 40
   },
   "kernels_config": {
    "python": {
     "delete_cmd_postfix": "",
     "delete_cmd_prefix": "del ",
     "library": "var_list.py",
     "varRefreshCmd": "print(var_dic_list())"
    },
    "r": {
     "delete_cmd_postfix": ") ",
     "delete_cmd_prefix": "rm(",
     "library": "var_list.r",
     "varRefreshCmd": "cat(var_dic_list()) "
    }
   },
   "types_to_exclude": [
    "module",
    "function",
    "builtin_function_or_method",
    "instance",
    "_Feature"
   ],
   "window_display": false
  }
 },
 "nbformat": 4,
 "nbformat_minor": 2
}
